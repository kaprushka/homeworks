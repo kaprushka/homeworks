{
 "cells": [
  {
   "cell_type": "markdown",
   "metadata": {
    "colab_type": "text",
    "id": "EHHK2KdKFbt0"
   },
   "source": [
    "# Домашнее задание"
   ]
  },
  {
   "cell_type": "markdown",
   "metadata": {
    "colab_type": "text",
    "id": "1yOZlmniLlkE"
   },
   "source": [
    "**Задание:** Написать веб-сервис (или бота), с которой можно разговаривать: пользователь пишет ей реплику, а она отвечает предложением, в котором все слова заменены на какие-то случайные другие слова той же части речи и с теми же грамматическими характеристиками. Предложение-ответ должно быть согласованным.\n",
    "\n",
    "Например, на фразу \"Мама мыла раму\" программа может ответить \"Девочка пела песню\".\n",
    "\n",
    "Решение нужно разместить на PythonAnywhere.\n",
    "\n",
    "Для такой программы вам понадобится большой список русских слов:\n",
    "\n",
    "можно взять список словоформ с сайта НКРЯ - http://ruscorpora.ru/corpora-freq.html\n",
    "можно взять просто любой большой текст, вытащить из него слова и использовать их.\n",
    "\n",
    "Из этого списка вам нужен только список разных лемм разных частей речи, и затем нужно будет использовать функции parse и inflect."
   ]
  },
  {
   "cell_type": "markdown",
   "metadata": {
    "colab_type": "text",
    "id": "3eLlc1P1SNTW"
   },
   "source": [
    "https://github.com/nlpub/pymystem3"
   ]
  },
  {
   "cell_type": "markdown",
   "metadata": {
    "colab_type": "text",
    "id": "NRe8mfd7SNTQ"
   },
   "source": [
    "https://github.com/nlpub/pymystem3/blob/master/pymystem3/mystem.py"
   ]
  },
  {
   "cell_type": "markdown",
   "metadata": {
    "colab_type": "text",
    "id": "x7ozDFbrLfRD"
   },
   "source": [
    "https://tech.yandex.ru/mystem/doc/grammemes-values-docpage/"
   ]
  },
  {
   "cell_type": "markdown",
   "metadata": {
    "colab_type": "text",
    "id": "Q2hR-p8_RKKc"
   },
   "source": [
    "https://pymorphy2.readthedocs.io/en/latest/\n",
    "https://pymorphy2.readthedocs.io/en/latest/user/grammemes.html\n",
    "\n"
   ]
  },
  {
   "cell_type": "markdown",
   "metadata": {
    "colab_type": "text",
    "id": "a4Ee2sAKmY44"
   },
   "source": [
    "Установка необходимых библиотек."
   ]
  },
  {
   "cell_type": "code",
   "execution_count": 12,
   "metadata": {
    "colab": {
     "autoexec": {
      "startup": false,
      "wait_interval": 0
     },
     "base_uri": "https://localhost:8080/",
     "height": 289
    },
    "colab_type": "code",
    "executionInfo": {
     "elapsed": 4694,
     "status": "ok",
     "timestamp": 1525883618819,
     "user": {
      "displayName": "Ekaterina Loginova",
      "photoUrl": "//lh5.googleusercontent.com/-rTHOnLQH_r8/AAAAAAAAAAI/AAAAAAAALEs/6WzKwScZqD0/s50-c-k-no/photo.jpg",
      "userId": "104307473242491844073"
     },
     "user_tz": -120
    },
    "id": "jTkvIB1S_Zhi",
    "outputId": "6a4db14a-5bc3-4c40-c66a-b6c3fa68b004"
   },
   "outputs": [
    {
     "name": "stdout",
     "output_type": "stream",
     "text": [
      "Collecting pymorphy2\n",
      "  Using cached https://files.pythonhosted.org/packages/a3/33/fff9675c68b5f6c63ec8c6e6ff57827dda28a1fa5b2c2d727dffff92dd47/pymorphy2-0.8-py2.py3-none-any.whl\n",
      "Collecting docopt>=0.6 (from pymorphy2)\n",
      "  Downloading https://files.pythonhosted.org/packages/a2/55/8f8cab2afd404cf578136ef2cc5dfb50baa1761b68c9da1fb1e4eed343c9/docopt-0.6.2.tar.gz\n",
      "Collecting dawg-python>=0.7 (from pymorphy2)\n",
      "  Downloading https://files.pythonhosted.org/packages/6a/84/ff1ce2071d4c650ec85745766c0047ccc3b5036f1d03559fd46bb38b5eeb/DAWG_Python-0.7.2-py2.py3-none-any.whl\n",
      "Collecting pymorphy2-dicts<3.0,>=2.4 (from pymorphy2)\n",
      "\u001b[?25l  Downloading https://files.pythonhosted.org/packages/02/51/2465fd4f72328ab50877b54777764d928da8cb15b74e2680fc1bd8cb3173/pymorphy2_dicts-2.4.393442.3710985-py2.py3-none-any.whl (7.1MB)\n",
      "\u001b[K    100% |████████████████████████████████| 7.1MB 4.0MB/s \n",
      "\u001b[?25hBuilding wheels for collected packages: docopt\n",
      "  Running setup.py bdist_wheel for docopt ... \u001b[?25l-\b \bdone\n",
      "\u001b[?25h  Stored in directory: /content/.cache/pip/wheels/9b/04/dd/7daf4150b6d9b12949298737de9431a324d4b797ffd63f526e\n",
      "Successfully built docopt\n",
      "Installing collected packages: docopt, dawg-python, pymorphy2-dicts, pymorphy2\n",
      "Successfully installed dawg-python-0.7.2 docopt-0.6.2 pymorphy2-0.8 pymorphy2-dicts-2.4.393442.3710985\n"
     ]
    }
   ],
   "source": [
    "!pip install pymorphy2"
   ]
  },
  {
   "cell_type": "code",
   "execution_count": 13,
   "metadata": {
    "colab": {
     "autoexec": {
      "startup": false,
      "wait_interval": 0
     },
     "base_uri": "https://localhost:8080/",
     "height": 255
    },
    "colab_type": "code",
    "executionInfo": {
     "elapsed": 4535,
     "status": "ok",
     "timestamp": 1525883627072,
     "user": {
      "displayName": "Ekaterina Loginova",
      "photoUrl": "//lh5.googleusercontent.com/-rTHOnLQH_r8/AAAAAAAAAAI/AAAAAAAALEs/6WzKwScZqD0/s50-c-k-no/photo.jpg",
      "userId": "104307473242491844073"
     },
     "user_tz": -120
    },
    "id": "lP1mPwf1EFYy",
    "outputId": "50b1bfc4-5caf-40d5-a23d-198257cc906b"
   },
   "outputs": [
    {
     "name": "stdout",
     "output_type": "stream",
     "text": [
      "Collecting pymystem3\n",
      "  Downloading https://files.pythonhosted.org/packages/89/df/830317a0fc4baefd18bdb8294cb2e3eb1729afeeb983c90413019bbcc797/pymystem3-0.1.9.tar.gz\n",
      "Requirement already satisfied: requests in /usr/local/lib/python3.6/dist-packages (from pymystem3) (2.18.4)\n",
      "Requirement already satisfied: idna<2.7,>=2.5 in /usr/local/lib/python3.6/dist-packages (from requests->pymystem3) (2.6)\n",
      "Requirement already satisfied: urllib3<1.23,>=1.21.1 in /usr/local/lib/python3.6/dist-packages (from requests->pymystem3) (1.22)\n",
      "Requirement already satisfied: chardet<3.1.0,>=3.0.2 in /usr/local/lib/python3.6/dist-packages (from requests->pymystem3) (3.0.4)\n",
      "Requirement already satisfied: certifi>=2017.4.17 in /usr/local/lib/python3.6/dist-packages (from requests->pymystem3) (2018.4.16)\n",
      "Building wheels for collected packages: pymystem3\n",
      "  Running setup.py bdist_wheel for pymystem3 ... \u001b[?25l-\b \b\\\b \b|\b \b/\b \b-\b \bdone\n",
      "\u001b[?25h  Stored in directory: /content/.cache/pip/wheels/55/d3/d3/324a9502a055d4c651f7e61113fe60ad2df54ab7244a6dae6e\n",
      "Successfully built pymystem3\n",
      "Installing collected packages: pymystem3\n",
      "Successfully installed pymystem3-0.1.9\n"
     ]
    }
   ],
   "source": [
    "!pip install pymystem3"
   ]
  },
  {
   "cell_type": "markdown",
   "metadata": {
    "colab_type": "text",
    "id": "WlttxuzpmekU"
   },
   "source": [
    "Скачиваем слова из корпуса русского языка."
   ]
  },
  {
   "cell_type": "code",
   "execution_count": 1,
   "metadata": {
    "colab": {
     "autoexec": {
      "startup": false,
      "wait_interval": 0
     },
     "base_uri": "https://localhost:8080/",
     "height": 222
    },
    "colab_type": "code",
    "executionInfo": {
     "elapsed": 12867,
     "status": "ok",
     "timestamp": 1525883549595,
     "user": {
      "displayName": "Ekaterina Loginova",
      "photoUrl": "//lh5.googleusercontent.com/-rTHOnLQH_r8/AAAAAAAAAAI/AAAAAAAALEs/6WzKwScZqD0/s50-c-k-no/photo.jpg",
      "userId": "104307473242491844073"
     },
     "user_tz": -120
    },
    "id": "Ie8EqHsiBrBQ",
    "outputId": "7d2487d5-ec9d-4cd0-b402-e8c7e0bfef23"
   },
   "outputs": [
    {
     "name": "stdout",
     "output_type": "stream",
     "text": [
      "--2018-05-09 16:32:19--  http://ruscorpora.ru/ngrams/1grams-3.zip\n",
      "Resolving ruscorpora.ru (ruscorpora.ru)... 94.127.67.66\n",
      "Connecting to ruscorpora.ru (ruscorpora.ru)|94.127.67.66|:80... connected.\n",
      "HTTP request sent, awaiting response... 200 OK\n",
      "Length: 5663668 (5.4M) [application/zip]\n",
      "Saving to: ‘1grams-3.zip’\n",
      "\n",
      "1grams-3.zip        100%[===================>]   5.40M   427KB/s    in 10s     \n",
      "\n",
      "2018-05-09 16:32:30 (528 KB/s) - ‘1grams-3.zip’ saved [5663668/5663668]\n",
      "\n"
     ]
    }
   ],
   "source": [
    "!wget http://ruscorpora.ru/ngrams/1grams-3.zip"
   ]
  },
  {
   "cell_type": "code",
   "execution_count": 2,
   "metadata": {
    "colab": {
     "autoexec": {
      "startup": false,
      "wait_interval": 0
     },
     "base_uri": "https://localhost:8080/",
     "height": 50
    },
    "colab_type": "code",
    "executionInfo": {
     "elapsed": 1898,
     "status": "ok",
     "timestamp": 1525883565775,
     "user": {
      "displayName": "Ekaterina Loginova",
      "photoUrl": "//lh5.googleusercontent.com/-rTHOnLQH_r8/AAAAAAAAAAI/AAAAAAAALEs/6WzKwScZqD0/s50-c-k-no/photo.jpg",
      "userId": "104307473242491844073"
     },
     "user_tz": -120
    },
    "id": "BCUvAjWTDDGj",
    "outputId": "122ebaaf-dde2-41cc-d0d7-fc0363f2a606"
   },
   "outputs": [
    {
     "name": "stdout",
     "output_type": "stream",
     "text": [
      "Archive:  1grams-3.zip\n",
      "  inflating: 1grams-3.txt            \n"
     ]
    }
   ],
   "source": [
    "!unzip 1grams-3.zip"
   ]
  },
  {
   "cell_type": "code",
   "execution_count": 0,
   "metadata": {
    "colab": {
     "autoexec": {
      "startup": false,
      "wait_interval": 0
     }
    },
    "colab_type": "code",
    "id": "aEU2K1tBDJcN"
   },
   "outputs": [],
   "source": [
    "with open('1grams-3.txt', 'r') as f:\n",
    "    content = f.readlines()"
   ]
  },
  {
   "cell_type": "code",
   "execution_count": 4,
   "metadata": {
    "colab": {
     "autoexec": {
      "startup": false,
      "wait_interval": 0
     },
     "base_uri": "https://localhost:8080/",
     "height": 185
    },
    "colab_type": "code",
    "executionInfo": {
     "elapsed": 1160,
     "status": "ok",
     "timestamp": 1525883571112,
     "user": {
      "displayName": "Ekaterina Loginova",
      "photoUrl": "//lh5.googleusercontent.com/-rTHOnLQH_r8/AAAAAAAAAAI/AAAAAAAALEs/6WzKwScZqD0/s50-c-k-no/photo.jpg",
      "userId": "104307473242491844073"
     },
     "user_tz": -120
    },
    "id": "b2uDn38UDR0-",
    "outputId": "7345338d-6e6a-4cf1-faf1-d46521d755e6"
   },
   "outputs": [
    {
     "data": {
      "text/plain": [
       "['6829968\\tи\\n',\n",
       " '5190215\\tв\\n',\n",
       " '3164900\\tне\\n',\n",
       " '2729210\\tна\\n',\n",
       " '2064408\\tс\\n',\n",
       " '2064178\\tчто\\n',\n",
       " '1146383\\tкак\\n',\n",
       " '1092177\\tя\\n',\n",
       " '1046292\\tк\\n',\n",
       " '1040711\\tон\\n']"
      ]
     },
     "execution_count": 4,
     "metadata": {
      "tags": []
     },
     "output_type": "execute_result"
    }
   ],
   "source": [
    "content[0:10]"
   ]
  },
  {
   "cell_type": "code",
   "execution_count": 5,
   "metadata": {
    "colab": {
     "autoexec": {
      "startup": false,
      "wait_interval": 0
     },
     "base_uri": "https://localhost:8080/",
     "height": 34
    },
    "colab_type": "code",
    "executionInfo": {
     "elapsed": 611,
     "status": "ok",
     "timestamp": 1525883574391,
     "user": {
      "displayName": "Ekaterina Loginova",
      "photoUrl": "//lh5.googleusercontent.com/-rTHOnLQH_r8/AAAAAAAAAAI/AAAAAAAALEs/6WzKwScZqD0/s50-c-k-no/photo.jpg",
      "userId": "104307473242491844073"
     },
     "user_tz": -120
    },
    "id": "We17WcjPDfzW",
    "outputId": "b809f3cd-3d01-41bc-fc16-11a73918ef74"
   },
   "outputs": [
    {
     "data": {
      "text/plain": [
       "'и'"
      ]
     },
     "execution_count": 5,
     "metadata": {
      "tags": []
     },
     "output_type": "execute_result"
    }
   ],
   "source": [
    "content[0].split('\\t')[-1].strip()"
   ]
  },
  {
   "cell_type": "code",
   "execution_count": 0,
   "metadata": {
    "colab": {
     "autoexec": {
      "startup": false,
      "wait_interval": 0
     }
    },
    "colab_type": "code",
    "id": "jHI6R4XsDbpE"
   },
   "outputs": [],
   "source": [
    "words = [line.split('\\t')[-1].strip() for line in content]"
   ]
  },
  {
   "cell_type": "code",
   "execution_count": 7,
   "metadata": {
    "colab": {
     "autoexec": {
      "startup": false,
      "wait_interval": 0
     },
     "base_uri": "https://localhost:8080/",
     "height": 34
    },
    "colab_type": "code",
    "executionInfo": {
     "elapsed": 896,
     "status": "ok",
     "timestamp": 1525883580414,
     "user": {
      "displayName": "Ekaterina Loginova",
      "photoUrl": "//lh5.googleusercontent.com/-rTHOnLQH_r8/AAAAAAAAAAI/AAAAAAAALEs/6WzKwScZqD0/s50-c-k-no/photo.jpg",
      "userId": "104307473242491844073"
     },
     "user_tz": -120
    },
    "id": "xjpIjOTZDphi",
    "outputId": "70715c3e-da5d-4633-8654-498afcdc735a"
   },
   "outputs": [
    {
     "data": {
      "text/plain": [
       "1054210"
      ]
     },
     "execution_count": 7,
     "metadata": {
      "tags": []
     },
     "output_type": "execute_result"
    }
   ],
   "source": [
    "len(words)"
   ]
  },
  {
   "cell_type": "code",
   "execution_count": 8,
   "metadata": {
    "colab": {
     "autoexec": {
      "startup": false,
      "wait_interval": 0
     },
     "base_uri": "https://localhost:8080/",
     "height": 34
    },
    "colab_type": "code",
    "executionInfo": {
     "elapsed": 1659,
     "status": "ok",
     "timestamp": 1525883585160,
     "user": {
      "displayName": "Ekaterina Loginova",
      "photoUrl": "//lh5.googleusercontent.com/-rTHOnLQH_r8/AAAAAAAAAAI/AAAAAAAALEs/6WzKwScZqD0/s50-c-k-no/photo.jpg",
      "userId": "104307473242491844073"
     },
     "user_tz": -120
    },
    "id": "yE4CxJ9TDrb2",
    "outputId": "10d9bafe-0056-4b89-f2f3-0c227028e628"
   },
   "outputs": [
    {
     "data": {
      "text/plain": [
       "1054210"
      ]
     },
     "execution_count": 8,
     "metadata": {
      "tags": []
     },
     "output_type": "execute_result"
    }
   ],
   "source": [
    "len(set(words))"
   ]
  },
  {
   "cell_type": "markdown",
   "metadata": {
    "colab_type": "text",
    "id": "17HNabaTFftf"
   },
   "source": [
    "# Программа"
   ]
  },
  {
   "cell_type": "markdown",
   "metadata": {
    "colab_type": "text",
    "id": "bjjmuZcWDIpw"
   },
   "source": [
    "Импортируем библиотеки."
   ]
  },
  {
   "cell_type": "code",
   "execution_count": 0,
   "metadata": {
    "colab": {
     "autoexec": {
      "startup": false,
      "wait_interval": 0
     }
    },
    "colab_type": "code",
    "id": "JDGtODx9ENmD"
   },
   "outputs": [],
   "source": [
    "from pymystem3 import Mystem\n",
    "import pymorphy2\n",
    "from pymorphy2 import MorphAnalyzer"
   ]
  },
  {
   "cell_type": "markdown",
   "metadata": {
    "colab_type": "text",
    "id": "sIVXJwEwmqFE"
   },
   "source": [
    "Создаем экземпляры морфологических парсеров."
   ]
  },
  {
   "cell_type": "code",
   "execution_count": 15,
   "metadata": {
    "colab": {
     "autoexec": {
      "startup": false,
      "wait_interval": 0
     },
     "base_uri": "https://localhost:8080/",
     "height": 34
    },
    "colab_type": "code",
    "executionInfo": {
     "elapsed": 3728,
     "status": "ok",
     "timestamp": 1525883637953,
     "user": {
      "displayName": "Ekaterina Loginova",
      "photoUrl": "//lh5.googleusercontent.com/-rTHOnLQH_r8/AAAAAAAAAAI/AAAAAAAALEs/6WzKwScZqD0/s50-c-k-no/photo.jpg",
      "userId": "104307473242491844073"
     },
     "user_tz": -120
    },
    "id": "05qMBgjnFOw0",
    "outputId": "70ea8acf-6006-4330-9fb7-41499489809d"
   },
   "outputs": [
    {
     "name": "stderr",
     "output_type": "stream",
     "text": [
      "Installing mystem to /content/.local/bin/mystem from http://download.cdn.yandex.net/mystem/mystem-3.0-linux3.1-64bit.tar.gz\n"
     ]
    }
   ],
   "source": [
    "morph = MorphAnalyzer()\n",
    "m = Mystem()"
   ]
  },
  {
   "cell_type": "markdown",
   "metadata": {
    "colab_type": "text",
    "id": "pRHmjQUsm3SV"
   },
   "source": [
    "Пример функций Mystem"
   ]
  },
  {
   "cell_type": "code",
   "execution_count": 0,
   "metadata": {
    "colab": {
     "autoexec": {
      "startup": false,
      "wait_interval": 0
     }
    },
    "colab_type": "code",
    "id": "q13e5lo3m3b-"
   },
   "outputs": [],
   "source": [
    "text = 'Мама мыла раму'"
   ]
  },
  {
   "cell_type": "code",
   "execution_count": 18,
   "metadata": {
    "colab": {
     "autoexec": {
      "startup": false,
      "wait_interval": 0
     },
     "base_uri": "https://localhost:8080/",
     "height": 54
    },
    "colab_type": "code",
    "executionInfo": {
     "elapsed": 966,
     "status": "ok",
     "timestamp": 1525883644078,
     "user": {
      "displayName": "Ekaterina Loginova",
      "photoUrl": "//lh5.googleusercontent.com/-rTHOnLQH_r8/AAAAAAAAAAI/AAAAAAAALEs/6WzKwScZqD0/s50-c-k-no/photo.jpg",
      "userId": "104307473242491844073"
     },
     "user_tz": -120
    },
    "id": "wsnYTugNIGU6",
    "outputId": "1663e10c-42e6-4418-d5f8-a216b74ea2e6"
   },
   "outputs": [
    {
     "name": "stdout",
     "output_type": "stream",
     "text": [
      "[{'analysis': [{'lex': 'мама', 'gr': 'S,жен,од=им,ед'}], 'text': 'Мама'}, {'text': ' '}, {'analysis': [{'lex': 'мыть', 'gr': 'V,несов,пе=прош,ед,изъяв,жен'}], 'text': 'мыла'}, {'text': ' '}, {'analysis': [{'lex': 'рама', 'gr': 'S,жен,неод=вин,ед'}], 'text': 'раму'}, {'text': '\\n'}]\n"
     ]
    }
   ],
   "source": [
    "ana = m.analyze(text)\n",
    "print(ana)"
   ]
  },
  {
   "cell_type": "code",
   "execution_count": 19,
   "metadata": {
    "colab": {
     "autoexec": {
      "startup": false,
      "wait_interval": 0
     },
     "base_uri": "https://localhost:8080/",
     "height": 34
    },
    "colab_type": "code",
    "executionInfo": {
     "elapsed": 568,
     "status": "ok",
     "timestamp": 1525883645499,
     "user": {
      "displayName": "Ekaterina Loginova",
      "photoUrl": "//lh5.googleusercontent.com/-rTHOnLQH_r8/AAAAAAAAAAI/AAAAAAAALEs/6WzKwScZqD0/s50-c-k-no/photo.jpg",
      "userId": "104307473242491844073"
     },
     "user_tz": -120
    },
    "id": "fWBHjOqZIxH9",
    "outputId": "b8e6d91d-30e2-438d-89de-dd813d85d659"
   },
   "outputs": [
    {
     "name": "stdout",
     "output_type": "stream",
     "text": [
      "['мама', ' ', 'мыть', ' ', 'рама', '\\n']\n"
     ]
    }
   ],
   "source": [
    "lemmas = m.lemmatize(text)\n",
    "print(lemmas)"
   ]
  },
  {
   "cell_type": "markdown",
   "metadata": {
    "colab_type": "text",
    "id": "Y192eDREm9rs"
   },
   "source": [
    "Пример функций PyMorphy"
   ]
  },
  {
   "cell_type": "code",
   "execution_count": 20,
   "metadata": {
    "colab": {
     "autoexec": {
      "startup": false,
      "wait_interval": 0
     },
     "base_uri": "https://localhost:8080/",
     "height": 87
    },
    "colab_type": "code",
    "executionInfo": {
     "elapsed": 998,
     "status": "ok",
     "timestamp": 1525883647714,
     "user": {
      "displayName": "Ekaterina Loginova",
      "photoUrl": "//lh5.googleusercontent.com/-rTHOnLQH_r8/AAAAAAAAAAI/AAAAAAAALEs/6WzKwScZqD0/s50-c-k-no/photo.jpg",
      "userId": "104307473242491844073"
     },
     "user_tz": -120
    },
    "id": "X1zPNwtKHIiO",
    "outputId": "cdec0d4d-3e13-47da-9eb4-41b9261a0dd8"
   },
   "outputs": [
    {
     "name": "stdout",
     "output_type": "stream",
     "text": [
      "[Parse(word='мама', tag=OpencorporaTag('NOUN,anim,femn sing,nomn'), normal_form='мама', score=1.0, methods_stack=((<DictionaryAnalyzer>, 'мама', 1907, 0),))]\n",
      "[Parse(word='мыла', tag=OpencorporaTag('NOUN,inan,neut sing,gent'), normal_form='мыло', score=0.333333, methods_stack=((<DictionaryAnalyzer>, 'мыла', 54, 1),)), Parse(word='мыла', tag=OpencorporaTag('VERB,impf,tran femn,sing,past,indc'), normal_form='мыть', score=0.333333, methods_stack=((<DictionaryAnalyzer>, 'мыла', 1813, 8),)), Parse(word='мыла', tag=OpencorporaTag('NOUN,inan,neut plur,nomn'), normal_form='мыло', score=0.166666, methods_stack=((<DictionaryAnalyzer>, 'мыла', 54, 6),)), Parse(word='мыла', tag=OpencorporaTag('NOUN,inan,neut plur,accs'), normal_form='мыло', score=0.166666, methods_stack=((<DictionaryAnalyzer>, 'мыла', 54, 9),))]\n",
      "[Parse(word='раму', tag=OpencorporaTag('NOUN,inan,masc,Geox sing,datv'), normal_form='рам', score=0.5, methods_stack=((<DictionaryAnalyzer>, 'раму', 32, 2),)), Parse(word='раму', tag=OpencorporaTag('NOUN,inan,femn sing,accs'), normal_form='рама', score=0.5, methods_stack=((<DictionaryAnalyzer>, 'раму', 55, 3),))]\n"
     ]
    }
   ],
   "source": [
    "tokens = text.split()\n",
    "for token in tokens:\n",
    "    print(morph.parse(token))"
   ]
  },
  {
   "cell_type": "code",
   "execution_count": 21,
   "metadata": {
    "colab": {
     "autoexec": {
      "startup": false,
      "wait_interval": 0
     },
     "base_uri": "https://localhost:8080/",
     "height": 138
    },
    "colab_type": "code",
    "executionInfo": {
     "elapsed": 749,
     "status": "ok",
     "timestamp": 1525883649434,
     "user": {
      "displayName": "Ekaterina Loginova",
      "photoUrl": "//lh5.googleusercontent.com/-rTHOnLQH_r8/AAAAAAAAAAI/AAAAAAAALEs/6WzKwScZqD0/s50-c-k-no/photo.jpg",
      "userId": "104307473242491844073"
     },
     "user_tz": -120
    },
    "id": "URMiyZ6RHvAM",
    "outputId": "bcb01b79-5dcc-4b4e-e54b-0cf193850806"
   },
   "outputs": [
    {
     "name": "stdout",
     "output_type": "stream",
     "text": [
      "[Parse(word='мама', tag=OpencorporaTag('NOUN,anim,femn sing,nomn'), normal_form='мама', score=1.0, methods_stack=((<DictionaryAnalyzer>, 'мама', 1907, 0),))]\n",
      "[Parse(word=' ', tag=OpencorporaTag('UNKN'), normal_form=' ', score=1.0, methods_stack=((<UnknAnalyzer>, ' '),))]\n",
      "[Parse(word='мыть', tag=OpencorporaTag('INFN,impf,tran'), normal_form='мыть', score=1.0, methods_stack=((<DictionaryAnalyzer>, 'мыть', 1813, 0),))]\n",
      "[Parse(word=' ', tag=OpencorporaTag('UNKN'), normal_form=' ', score=1.0, methods_stack=((<UnknAnalyzer>, ' '),))]\n",
      "[Parse(word='рама', tag=OpencorporaTag('NOUN,inan,masc,Geox sing,gent'), normal_form='рам', score=0.5, methods_stack=((<DictionaryAnalyzer>, 'рама', 32, 1),)), Parse(word='рама', tag=OpencorporaTag('NOUN,inan,femn sing,nomn'), normal_form='рама', score=0.5, methods_stack=((<DictionaryAnalyzer>, 'рама', 55, 0),))]\n",
      "[Parse(word='\\n', tag=OpencorporaTag('ROMN'), normal_form='\\n', score=1.0, methods_stack=((<RomanNumberAnalyzer>, '\\n'),))]\n"
     ]
    }
   ],
   "source": [
    "for lemma in lemmas:\n",
    "    print(morph.parse(lemma))"
   ]
  },
  {
   "cell_type": "markdown",
   "metadata": {
    "colab_type": "text",
    "id": "ZiKgLxi5GlDq"
   },
   "source": [
    "Порядок действий:\n",
    "1. Распарсить входное предложение - получить части речи и остальные грамматические характеристики. (с помощью pymorphy)\n",
    "2. Выбрать случайную лемму той же части речи для каждого слова.\n",
    "3. Применить к каждой лемме inflect с входными грамматическими характеристиками."
   ]
  },
  {
   "cell_type": "markdown",
   "metadata": {
    "colab_type": "text",
    "id": "Y6Wn9aHUnG9F"
   },
   "source": [
    "Получаем теги частеречной разметки Mystem для каждого слова."
   ]
  },
  {
   "cell_type": "code",
   "execution_count": 22,
   "metadata": {
    "colab": {
     "autoexec": {
      "startup": false,
      "wait_interval": 0
     },
     "base_uri": "https://localhost:8080/",
     "height": 34
    },
    "colab_type": "code",
    "executionInfo": {
     "elapsed": 625,
     "status": "ok",
     "timestamp": 1525883651104,
     "user": {
      "displayName": "Ekaterina Loginova",
      "photoUrl": "//lh5.googleusercontent.com/-rTHOnLQH_r8/AAAAAAAAAAI/AAAAAAAALEs/6WzKwScZqD0/s50-c-k-no/photo.jpg",
      "userId": "104307473242491844073"
     },
     "user_tz": -120
    },
    "id": "wzetbQRyKGRp",
    "outputId": "902558b8-fb38-461b-eae8-809815394ce0"
   },
   "outputs": [
    {
     "name": "stdout",
     "output_type": "stream",
     "text": [
      "['S', 'V', 'S']\n"
     ]
    }
   ],
   "source": [
    "pos_tags = []\n",
    "for an in ana:\n",
    "    if 'analysis' in an.keys():\n",
    "        pos_tags.append(an['analysis'][0]['gr'].split(',')[0])\n",
    "print(pos_tags)"
   ]
  },
  {
   "cell_type": "markdown",
   "metadata": {
    "colab_type": "text",
    "id": "Nrh-3TuVnOwj"
   },
   "source": [
    "Нам нужно уметь выбирать новое случайное слово заданной части речи. Для этого необходимо соответствие между словами корпуса и частеречными тегами.\n",
    "Создаем словарь, где ключами будут части речи, а значениями - принадлежещие им слова."
   ]
  },
  {
   "cell_type": "code",
   "execution_count": 40,
   "metadata": {
    "colab": {
     "autoexec": {
      "startup": false,
      "wait_interval": 0
     },
     "base_uri": "https://localhost:8080/",
     "height": 17
    },
    "colab_type": "code",
    "executionInfo": {
     "elapsed": 5859,
     "status": "ok",
     "timestamp": 1525884762458,
     "user": {
      "displayName": "Ekaterina Loginova",
      "photoUrl": "//lh5.googleusercontent.com/-rTHOnLQH_r8/AAAAAAAAAAI/AAAAAAAALEs/6WzKwScZqD0/s50-c-k-no/photo.jpg",
      "userId": "104307473242491844073"
     },
     "user_tz": -120
    },
    "id": "VU7r_rljLlaR",
    "outputId": "2de02db3-024d-4ab5-8580-02859d5c7978"
   },
   "outputs": [
    {
     "name": "stdout",
     "output_type": "stream",
     "text": []
    }
   ],
   "source": [
    "word_pos_dict = {}\n",
    "num_words = 10000\n",
    "for i, word in enumerate(words[:num_words]):\n",
    "    print(i, end = '\\r')\n",
    "    word = m.lemmatize(word)[0]\n",
    "    ana = m.analyze(word)\n",
    "    if 'analysis' in ana[0].keys():\n",
    "        if len(ana[0]['analysis']) > 0:\n",
    "            pos_tag = ana[0]['analysis'][0]['gr'].split(',')[0]\n",
    "            if '=' in pos_tag:\n",
    "                pos_tag = pos_tag.split('=')[0]\n",
    "            if pos_tag in word_pos_dict.keys():\n",
    "                word_pos_dict[pos_tag] = word_pos_dict[pos_tag] + [word]\n",
    "            else:\n",
    "                word_pos_dict[pos_tag] = [word]"
   ]
  },
  {
   "cell_type": "code",
   "execution_count": 41,
   "metadata": {
    "colab": {
     "autoexec": {
      "startup": false,
      "wait_interval": 0
     },
     "base_uri": "https://localhost:8080/",
     "height": 34
    },
    "colab_type": "code",
    "executionInfo": {
     "elapsed": 494,
     "status": "ok",
     "timestamp": 1525884764231,
     "user": {
      "displayName": "Ekaterina Loginova",
      "photoUrl": "//lh5.googleusercontent.com/-rTHOnLQH_r8/AAAAAAAAAAI/AAAAAAAALEs/6WzKwScZqD0/s50-c-k-no/photo.jpg",
      "userId": "104307473242491844073"
     },
     "user_tz": -120
    },
    "id": "9sDoHfEJwTqm",
    "outputId": "f0dff5fa-f1c2-4d1d-a46f-ef3b940b3c19"
   },
   "outputs": [
    {
     "name": "stdout",
     "output_type": "stream",
     "text": [
      "Количество слов: 9813\n"
     ]
    }
   ],
   "source": [
    "print('Количество слов:', sum([len(x)  for x in word_pos_dict.values()]))"
   ]
  },
  {
   "cell_type": "code",
   "execution_count": 29,
   "metadata": {
    "colab": {
     "autoexec": {
      "startup": false,
      "wait_interval": 0
     },
     "base_uri": "https://localhost:8080/",
     "height": 34
    },
    "colab_type": "code",
    "executionInfo": {
     "elapsed": 587,
     "status": "ok",
     "timestamp": 1525883744199,
     "user": {
      "displayName": "Ekaterina Loginova",
      "photoUrl": "//lh5.googleusercontent.com/-rTHOnLQH_r8/AAAAAAAAAAI/AAAAAAAALEs/6WzKwScZqD0/s50-c-k-no/photo.jpg",
      "userId": "104307473242491844073"
     },
     "user_tz": -120
    },
    "id": "hOPFmuzaN9Eh",
    "outputId": "8ff04e61-3fc9-481f-f502-c77c8b59b23a"
   },
   "outputs": [
    {
     "data": {
      "text/plain": [
       "dict_keys(['CONJ', 'S', 'PART', 'PR', 'SPRO', 'ADVPRO', 'INTJ', 'V', 'ADV', 'APRO', 'NUM', 'A', 'ANUM'])"
      ]
     },
     "execution_count": 29,
     "metadata": {
      "tags": []
     },
     "output_type": "execute_result"
    }
   ],
   "source": [
    "word_pos_dict.keys()"
   ]
  },
  {
   "cell_type": "markdown",
   "metadata": {
    "colab_type": "text",
    "id": "JUCdt33unkdb"
   },
   "source": [
    "Фильтруем по длине, чтобы исключить однобуквенные слова, оставшиеся после автоматической обработки инициалов, аббревиатур и т.п."
   ]
  },
  {
   "cell_type": "code",
   "execution_count": 0,
   "metadata": {
    "colab": {
     "autoexec": {
      "startup": false,
      "wait_interval": 0
     }
    },
    "colab_type": "code",
    "id": "npS_Mv4TUR3t"
   },
   "outputs": [],
   "source": [
    "candidates_pos = {}\n",
    "for key, val in word_pos_dict.items():\n",
    "    if key != 'PART' and key != 'PR' and key != 'SPRO':\n",
    "        candidates_pos[key] = [x for x in set(val) if len(x) > 1]\n",
    "    else:\n",
    "        candidates_pos[key] = set(val)"
   ]
  },
  {
   "cell_type": "code",
   "execution_count": 52,
   "metadata": {
    "cellView": "code",
    "colab": {
     "autoexec": {
      "startup": false,
      "wait_interval": 0
     },
     "base_uri": "https://localhost:8080/",
     "height": 672
    },
    "colab_type": "code",
    "executionInfo": {
     "elapsed": 1843,
     "status": "ok",
     "timestamp": 1525885247244,
     "user": {
      "displayName": "Ekaterina Loginova",
      "photoUrl": "//lh5.googleusercontent.com/-rTHOnLQH_r8/AAAAAAAAAAI/AAAAAAAALEs/6WzKwScZqD0/s50-c-k-no/photo.jpg",
      "userId": "104307473242491844073"
     },
     "user_tz": -120
    },
    "id": "8RPD0iVg0x-V",
    "outputId": "9b5d4d1c-7bb8-487b-82d0-612f359931b6"
   },
   "outputs": [
    {
     "name": "stdout",
     "output_type": "stream",
     "text": [
      "CONJ\n",
      "изменяемые: {''}\n",
      "неизменяемые: {'вводн', 'CONJ'}\n",
      "S\n",
      "изменяемые: {'', 'пр', 'им', 'мн', 'муж', 'од', 'вин', 'твор', 'род', 'ед'}\n",
      "неизменяемые: {'S', 'мн', 'им', 'муж', 'жен', 'сокр', 'од', 'мж', 'неод', 'сред', 'отч', 'фам', 'гео', 'reserved', 'устар', 'имя', 'разг', 'ед'}\n",
      "PART\n",
      "изменяемые: {''}\n",
      "неизменяемые: {'вводн', 'PART'}\n",
      "PR\n",
      "изменяемые: {''}\n",
      "неизменяемые: {'PR'}\n",
      "SPRO\n",
      "изменяемые: {'', 'ед', 'вин', 'им'}\n",
      "неизменяемые: {'мн', 'им', 'муж', 'жен', '2-л', 'од', 'неод', 'сред', '1-л', '3-л', 'ед', 'SPRO'}\n",
      "ADVPRO\n",
      "изменяемые: {''}\n",
      "неизменяемые: {'вводн', 'ADVPRO'}\n",
      "INTJ\n",
      "изменяемые: {''}\n",
      "неизменяемые: {'INTJ'}\n",
      "V\n",
      "изменяемые: {'полн', 'изъяв', 'несов', 'страд', 'муж', 'инф', 'пе', 'вин', 'прош', 'неод', 'нп', 'сов', 'непрош', '3-л', 'ед', 'прич'}\n",
      "неизменяемые: {'несов', 'V', 'пе', 'нп', 'сов'}\n",
      "ADV\n",
      "изменяемые: {'', 'вводн', 'срав'}\n",
      "неизменяемые: {'вводн', 'ADV', 'прдк'}\n",
      "APRO\n",
      "изменяемые: {'полн', 'пр', 'муж', 'жен', 'од', 'вин', 'неод', 'ед'}\n",
      "неизменяемые: {'кр', 'APRO'}\n",
      "NUM\n",
      "изменяемые: {'муж', 'неод', 'вин', 'им'}\n",
      "неизменяемые: {'NUM'}\n",
      "A\n",
      "изменяемые: {'полн', 'пр', 'им', 'муж', 'жен', 'вин', 'неод', 'сред', 'ед'}\n",
      "неизменяемые: {'полн', 'кр', 'A', 'притяж'}\n",
      "ANUM\n",
      "изменяемые: {'пр', 'муж', 'жен', 'вин', 'неод', 'ед'}\n",
      "неизменяемые: {'ANUM'}\n"
     ]
    }
   ],
   "source": [
    "m = Mystem()\n",
    "for key, val in candidates_pos.items():\n",
    "    non_changeable = []\n",
    "    changeable = []\n",
    "    for x in val:\n",
    "        an = m.analyze(x)[0]\n",
    "        non_changeable_current, changeable_current = an['analysis'][0]['gr'].split('=')\n",
    "        if '|' in changeable_current:\n",
    "            changeable_current = changeable_current.replace('(', '').replace(')', '').split(\"|\")[0]\n",
    "            non_changeable.extend(non_changeable_current.split(','))\n",
    "            changeable.extend(changeable_current.split(','))\n",
    "    print(key)\n",
    "    print('изменяемые:', set(changeable))\n",
    "    print('неизменяемые:', set(non_changeable))"
   ]
  },
  {
   "cell_type": "markdown",
   "metadata": {
    "colab_type": "text",
    "id": "1JiFtbp8Z8Mx"
   },
   "source": [
    " Разбиваем существительные также по одушевлённости (од/неод) и роду (муж/жен/cред), используя Mystem. Это нужно для выбора слов не только по частями речи, но и по другим грамматическим характеристикам.\n",
    " NB!ключом является не одно значение, а два - одушевлённость и род. Можно представить этот как двумерный словарь-таблицу.\n",
    " Отдельно выделяем имена, фамилии, отчества и географические названия."
   ]
  },
  {
   "cell_type": "code",
   "execution_count": 0,
   "metadata": {
    "colab": {
     "autoexec": {
      "startup": false,
      "wait_interval": 0
     }
    },
    "colab_type": "code",
    "id": "tdacDQMS3UXR"
   },
   "outputs": [],
   "source": [
    "named_entites = {}\n",
    "named_entities_labels = ['гео', 'имя', 'фам', 'отч']"
   ]
  },
  {
   "cell_type": "code",
   "execution_count": 0,
   "metadata": {
    "colab": {
     "autoexec": {
      "startup": false,
      "wait_interval": 0
     }
    },
    "colab_type": "code",
    "id": "F-_TMk0h73cV"
   },
   "outputs": [],
   "source": [
    "def parse_noun(word):\n",
    "    an = m.analyze(word)[0]\n",
    "    if 'analysis' in an.keys():\n",
    "        non_changeable, changeable = an['analysis'][0]['gr'].split('=')\n",
    "        tags = non_changeable.split(',')\n",
    "        gender_tag = tags[1]\n",
    "        if len(tags) > 2:\n",
    "            anim_tag = tags[2]\n",
    "        else:\n",
    "            anim_tag = '-'\n",
    "    return tags, gender_tag, anim_tag"
   ]
  },
  {
   "cell_type": "code",
   "execution_count": 90,
   "metadata": {
    "colab": {
     "autoexec": {
      "startup": false,
      "wait_interval": 0
     },
     "base_uri": "https://localhost:8080/",
     "height": 17
    },
    "colab_type": "code",
    "executionInfo": {
     "elapsed": 4178,
     "status": "ok",
     "timestamp": 1525886840077,
     "user": {
      "displayName": "Ekaterina Loginova",
      "photoUrl": "//lh5.googleusercontent.com/-rTHOnLQH_r8/AAAAAAAAAAI/AAAAAAAALEs/6WzKwScZqD0/s50-c-k-no/photo.jpg",
      "userId": "104307473242491844073"
     },
     "user_tz": -120
    },
    "id": "nTDRqqYhZ5Gh",
    "outputId": "2d7d5060-dfa0-4eb4-a416-c831eedc364a"
   },
   "outputs": [
    {
     "name": "stdout",
     "output_type": "stream",
     "text": []
    }
   ],
   "source": [
    "m = Mystem()\n",
    "candidates_nouns_grammar = {}\n",
    "for i, word in enumerate(candidates_pos['S']):\n",
    "    is_ne = False\n",
    "    print('Progress: %d / %d' % (i, len(candidates_pos['S'])), end = '\\r')\n",
    "    tags, gender_tag, anim_tag = parse_noun(word)\n",
    "    for label in named_entities_labels:\n",
    "        if label in tags:\n",
    "            named_entites.setdefault(label,[]).append(word)\n",
    "            is_ne = True\n",
    "    if not is_ne:\n",
    "        candidates_nouns_grammar.setdefault((gender_tag, anim_tag),[]).append(word)"
   ]
  },
  {
   "cell_type": "code",
   "execution_count": 0,
   "metadata": {
    "colab": {
     "autoexec": {
      "startup": false,
      "wait_interval": 0
     }
    },
    "colab_type": "code",
    "id": "hSfNrtGacD7b"
   },
   "outputs": [],
   "source": [
    "print(candidates_nouns_grammar[('жен', 'неод')][:10])"
   ]
  },
  {
   "cell_type": "code",
   "execution_count": 64,
   "metadata": {
    "colab": {
     "autoexec": {
      "startup": false,
      "wait_interval": 0
     },
     "base_uri": "https://localhost:8080/",
     "height": 34
    },
    "colab_type": "code",
    "executionInfo": {
     "elapsed": 463,
     "status": "ok",
     "timestamp": 1525886060088,
     "user": {
      "displayName": "Ekaterina Loginova",
      "photoUrl": "//lh5.googleusercontent.com/-rTHOnLQH_r8/AAAAAAAAAAI/AAAAAAAALEs/6WzKwScZqD0/s50-c-k-no/photo.jpg",
      "userId": "104307473242491844073"
     },
     "user_tz": -120
    },
    "id": "jsk3Z7Ri5W_W",
    "outputId": "d256f144-3838-49b3-85f4-1ad0f6834741"
   },
   "outputs": [
    {
     "name": "stdout",
     "output_type": "stream",
     "text": [
      "['воспитание', 'приглашение', 'платье', 'мероприятие', 'сражение', 'изменение', 'подобие', 'использование', 'наличие', 'соединение']\n"
     ]
    }
   ],
   "source": [
    "print(candidates_nouns_grammar[('сред', 'неод')][:10])"
   ]
  },
  {
   "cell_type": "code",
   "execution_count": 65,
   "metadata": {
    "colab": {
     "autoexec": {
      "startup": false,
      "wait_interval": 0
     },
     "base_uri": "https://localhost:8080/",
     "height": 34
    },
    "colab_type": "code",
    "executionInfo": {
     "elapsed": 468,
     "status": "ok",
     "timestamp": 1525886065761,
     "user": {
      "displayName": "Ekaterina Loginova",
      "photoUrl": "//lh5.googleusercontent.com/-rTHOnLQH_r8/AAAAAAAAAAI/AAAAAAAALEs/6WzKwScZqD0/s50-c-k-no/photo.jpg",
      "userId": "104307473242491844073"
     },
     "user_tz": -120
    },
    "id": "QlemC6Dx5W7d",
    "outputId": "455d0822-e64e-4649-829f-8622ef99ead7"
   },
   "outputs": [
    {
     "name": "stdout",
     "output_type": "stream",
     "text": [
      "['момент', 'коллектив', 'автомат', 'принцип', 'труд', 'градус', 'июль', 'день', 'театр', 'стул']\n"
     ]
    }
   ],
   "source": [
    "print(candidates_nouns_grammar[('муж', 'неод')][:10])"
   ]
  },
  {
   "cell_type": "code",
   "execution_count": 66,
   "metadata": {
    "colab": {
     "autoexec": {
      "startup": false,
      "wait_interval": 0
     },
     "base_uri": "https://localhost:8080/",
     "height": 34
    },
    "colab_type": "code",
    "executionInfo": {
     "elapsed": 466,
     "status": "ok",
     "timestamp": 1525886070109,
     "user": {
      "displayName": "Ekaterina Loginova",
      "photoUrl": "//lh5.googleusercontent.com/-rTHOnLQH_r8/AAAAAAAAAAI/AAAAAAAALEs/6WzKwScZqD0/s50-c-k-no/photo.jpg",
      "userId": "104307473242491844073"
     },
     "user_tz": -120
    },
    "id": "zwHobqHl5W20",
    "outputId": "c9b1aab4-59ce-4209-c9b6-f67f0da71074"
   },
   "outputs": [
    {
     "name": "stdout",
     "output_type": "stream",
     "text": [
      "['барон', 'майор', 'охотник', 'супруг', 'потребитель', 'начальник', 'заместитель', 'кандидат', 'рабочий', 'клиент']\n"
     ]
    }
   ],
   "source": [
    "print(candidates_nouns_grammar[('муж', 'од')][:10])"
   ]
  },
  {
   "cell_type": "markdown",
   "metadata": {
    "colab_type": "text",
    "id": "ovTNPisqi5RP"
   },
   "source": [
    "Глаголы разбиваем аналогичным образом по виду и переходности."
   ]
  },
  {
   "cell_type": "code",
   "execution_count": 0,
   "metadata": {
    "colab": {
     "autoexec": {
      "startup": false,
      "wait_interval": 0
     }
    },
    "colab_type": "code",
    "id": "q8uGCGLu8wsr"
   },
   "outputs": [],
   "source": [
    "def parse_verb(word):\n",
    "    an = m.analyze(word)[0]\n",
    "    if 'analysis' in an.keys():\n",
    "        tags = an['analysis'][0]['gr']\n",
    "        non_changeable, changeable = tags.split('=')\n",
    "        tags = non_changeable.split(',') + changeable.split(',')\n",
    "        perf_tag, trans_tag = '-', '-'\n",
    "        for tag in tags:\n",
    "            if tag in ['несов', 'сов']:\n",
    "                perf_tag = tag\n",
    "            if tag in ['пе', 'нп']:\n",
    "                trans_tag = tag\n",
    "    return tags, perf_tag, trans_tag"
   ]
  },
  {
   "cell_type": "code",
   "execution_count": 94,
   "metadata": {
    "colab": {
     "autoexec": {
      "startup": false,
      "wait_interval": 0
     },
     "base_uri": "https://localhost:8080/",
     "height": 17
    },
    "colab_type": "code",
    "executionInfo": {
     "elapsed": 7712,
     "status": "ok",
     "timestamp": 1525887181469,
     "user": {
      "displayName": "Ekaterina Loginova",
      "photoUrl": "//lh5.googleusercontent.com/-rTHOnLQH_r8/AAAAAAAAAAI/AAAAAAAALEs/6WzKwScZqD0/s50-c-k-no/photo.jpg",
      "userId": "104307473242491844073"
     },
     "user_tz": -120
    },
    "id": "pZI00DEZc8Ky",
    "outputId": "7642ac1a-71f5-40a2-92b8-7b7d8c25823c"
   },
   "outputs": [
    {
     "name": "stdout",
     "output_type": "stream",
     "text": []
    }
   ],
   "source": [
    "m = Mystem()\n",
    "candidates_verbs_grammar = {}\n",
    "for i, word in enumerate(candidates_pos['V']):\n",
    "    print('Progress: %d / %d' % (i, len(candidates_pos['V'])), end = '\\r')\n",
    "    tags, perf_tag, trans_tag = parse_verb(word)\n",
    "    candidates_verbs_grammar.setdefault((perf_tag, trans_tag),[]).append(word)"
   ]
  },
  {
   "cell_type": "markdown",
   "metadata": {
    "colab_type": "text",
    "id": "kWFyIYvioA7J"
   },
   "source": [
    "Пример содержания получившегося словаря."
   ]
  },
  {
   "cell_type": "code",
   "execution_count": 95,
   "metadata": {
    "colab": {
     "autoexec": {
      "startup": false,
      "wait_interval": 0
     },
     "base_uri": "https://localhost:8080/",
     "height": 34
    },
    "colab_type": "code",
    "executionInfo": {
     "elapsed": 7524,
     "status": "ok",
     "timestamp": 1525887189379,
     "user": {
      "displayName": "Ekaterina Loginova",
      "photoUrl": "//lh5.googleusercontent.com/-rTHOnLQH_r8/AAAAAAAAAAI/AAAAAAAALEs/6WzKwScZqD0/s50-c-k-no/photo.jpg",
      "userId": "104307473242491844073"
     },
     "user_tz": -120
    },
    "id": "LAPQbdbgeqFg",
    "outputId": "9eccda83-e6bb-4c1a-8e50-8585eb698bb9"
   },
   "outputs": [
    {
     "name": "stdout",
     "output_type": "stream",
     "text": [
      "['поглядеть', 'потребовать', 'молвить', 'послушать', 'сунуть', 'взять', 'пробормотать', 'поводить', 'подождать', 'позвать']\n"
     ]
    }
   ],
   "source": [
    "print(candidates_verbs_grammar[('сов', 'пе')][:10])"
   ]
  },
  {
   "cell_type": "code",
   "execution_count": 96,
   "metadata": {
    "colab": {
     "autoexec": {
      "startup": false,
      "wait_interval": 0
     },
     "base_uri": "https://localhost:8080/",
     "height": 34
    },
    "colab_type": "code",
    "executionInfo": {
     "elapsed": 823,
     "status": "ok",
     "timestamp": 1525887191767,
     "user": {
      "displayName": "Ekaterina Loginova",
      "photoUrl": "//lh5.googleusercontent.com/-rTHOnLQH_r8/AAAAAAAAAAI/AAAAAAAALEs/6WzKwScZqD0/s50-c-k-no/photo.jpg",
      "userId": "104307473242491844073"
     },
     "user_tz": -120
    },
    "id": "HXAReZRkfael",
    "outputId": "c29b31ab-c391-44dd-c432-cc35e7dda660"
   },
   "outputs": [
    {
     "name": "stdout",
     "output_type": "stream",
     "text": [
      "['попытаться', 'позвонить', 'воспользоваться', 'сделаться', 'взяться', 'смочь', 'закричать', 'поехать', 'засмеяться', 'выскочить']\n"
     ]
    }
   ],
   "source": [
    "print(candidates_verbs_grammar[('сов', 'нп')][:10])"
   ]
  },
  {
   "cell_type": "code",
   "execution_count": 97,
   "metadata": {
    "colab": {
     "autoexec": {
      "startup": false,
      "wait_interval": 0
     },
     "base_uri": "https://localhost:8080/",
     "height": 34
    },
    "colab_type": "code",
    "executionInfo": {
     "elapsed": 830,
     "status": "ok",
     "timestamp": 1525887193193,
     "user": {
      "displayName": "Ekaterina Loginova",
      "photoUrl": "//lh5.googleusercontent.com/-rTHOnLQH_r8/AAAAAAAAAAI/AAAAAAAALEs/6WzKwScZqD0/s50-c-k-no/photo.jpg",
      "userId": "104307473242491844073"
     },
     "user_tz": -120
    },
    "id": "oiB4lBiKfchN",
    "outputId": "aa960c95-760d-4e07-93e1-e7b773e441f8"
   },
   "outputs": [
    {
     "name": "stdout",
     "output_type": "stream",
     "text": [
      "['писать', 'наблюдать', 'ловить', 'интересовать', 'слышать', 'желать', 'делать', 'лечить', 'терять', 'читать']\n"
     ]
    }
   ],
   "source": [
    "print(candidates_verbs_grammar[('несов', 'пе')][:10])"
   ]
  },
  {
   "cell_type": "code",
   "execution_count": 98,
   "metadata": {
    "colab": {
     "autoexec": {
      "startup": false,
      "wait_interval": 0
     },
     "base_uri": "https://localhost:8080/",
     "height": 34
    },
    "colab_type": "code",
    "executionInfo": {
     "elapsed": 13385,
     "status": "ok",
     "timestamp": 1525887207223,
     "user": {
      "displayName": "Ekaterina Loginova",
      "photoUrl": "//lh5.googleusercontent.com/-rTHOnLQH_r8/AAAAAAAAAAI/AAAAAAAALEs/6WzKwScZqD0/s50-c-k-no/photo.jpg",
      "userId": "104307473242491844073"
     },
     "user_tz": -120
    },
    "id": "Mj19lQz2fdMO",
    "outputId": "c75aff8a-de79-443b-99fe-242d614109f4"
   },
   "outputs": [
    {
     "name": "stdout",
     "output_type": "stream",
     "text": [
      "['зависеть', 'торопиться', 'сидеть', 'жаловаться', 'готовиться', 'звонить', 'способствовать', 'заходить', 'поглядывать', 'подлежать']\n"
     ]
    }
   ],
   "source": [
    "print(candidates_verbs_grammar[('несов', 'нп')][:10])"
   ]
  },
  {
   "cell_type": "markdown",
   "metadata": {
    "colab_type": "text",
    "id": "dxd96jDjoPr6"
   },
   "source": [
    "Разбиваем местоимения по роду, лицу, одушевлённости и числу (если они не указаны, ставим прочерк)."
   ]
  },
  {
   "cell_type": "code",
   "execution_count": 0,
   "metadata": {
    "colab": {
     "autoexec": {
      "startup": false,
      "wait_interval": 0
     }
    },
    "colab_type": "code",
    "id": "0C3g2H7U9uRl"
   },
   "outputs": [],
   "source": [
    "def parse_pronoun(word):\n",
    "    an = m.analyze(word)[0]\n",
    "    if 'analysis' in an.keys():\n",
    "        non_changeable, changeable = an['analysis'][0]['gr'].split('=')\n",
    "        tags = non_changeable.split(',')\n",
    "        gender_tag, person_tag, anim_tag, num_tag = '-', '-', '-', '-'\n",
    "        for tag in tags:\n",
    "            if tag in ['муж', 'жен', 'сред']:\n",
    "                gender_tag = tag\n",
    "            if '-л' in tag:\n",
    "                person_tag = tag\n",
    "            if tag in ['од', 'неод']:\n",
    "                anim_tag = tag\n",
    "            if tag in ['мн', 'ед']:\n",
    "                num_tag = tag\n",
    "    return tags, person_tag, num_tag, gender_tag, anim_tag"
   ]
  },
  {
   "cell_type": "code",
   "execution_count": 101,
   "metadata": {
    "colab": {
     "autoexec": {
      "startup": false,
      "wait_interval": 0
     },
     "base_uri": "https://localhost:8080/",
     "height": 17
    },
    "colab_type": "code",
    "executionInfo": {
     "elapsed": 495,
     "status": "ok",
     "timestamp": 1525887259740,
     "user": {
      "displayName": "Ekaterina Loginova",
      "photoUrl": "//lh5.googleusercontent.com/-rTHOnLQH_r8/AAAAAAAAAAI/AAAAAAAALEs/6WzKwScZqD0/s50-c-k-no/photo.jpg",
      "userId": "104307473242491844073"
     },
     "user_tz": -120
    },
    "id": "ulie-8mhjKu9",
    "outputId": "ff1434bd-c4e7-44d7-8890-6e220dbe2182"
   },
   "outputs": [
    {
     "name": "stdout",
     "output_type": "stream",
     "text": [
      "Progress: 0 / 33\r",
      "Progress: 1 / 33\r",
      "Progress: 2 / 33\r",
      "Progress: 3 / 33\r",
      "Progress: 4 / 33\r",
      "Progress: 5 / 33\r",
      "Progress: 6 / 33\r",
      "Progress: 7 / 33\r",
      "Progress: 8 / 33\r",
      "Progress: 9 / 33\r",
      "Progress: 10 / 33\r",
      "Progress: 11 / 33\r",
      "Progress: 12 / 33\r",
      "Progress: 13 / 33\r",
      "Progress: 14 / 33\r",
      "Progress: 15 / 33\r",
      "Progress: 16 / 33\r",
      "Progress: 17 / 33\r",
      "Progress: 18 / 33\r",
      "Progress: 19 / 33\r",
      "Progress: 20 / 33\r",
      "Progress: 21 / 33\r",
      "Progress: 22 / 33\r",
      "Progress: 23 / 33\r",
      "Progress: 24 / 33\r",
      "Progress: 25 / 33\r",
      "Progress: 26 / 33\r",
      "Progress: 27 / 33\r",
      "Progress: 28 / 33\r",
      "Progress: 29 / 33\r",
      "Progress: 30 / 33\r",
      "Progress: 31 / 33\r",
      "Progress: 32 / 33\r"
     ]
    }
   ],
   "source": [
    "candidates_pronouns_grammar = {}\n",
    "for i, word in enumerate(candidates_pos['SPRO']):\n",
    "    print('Progress: %d / %d' % (i, len(candidates_pos['SPRO'])), end = '\\r')\n",
    "    tags, person_tag, num_tag, gender_tag, anim_tag = parse_pronoun(word)\n",
    "    candidates_pronouns_grammar.setdefault((person_tag, num_tag, gender_tag, anim_tag),[]).append(word)"
   ]
  },
  {
   "cell_type": "code",
   "execution_count": 0,
   "metadata": {
    "colab": {
     "autoexec": {
      "startup": false,
      "wait_interval": 0
     }
    },
    "colab_type": "code",
    "id": "cPQntK_lMtRe"
   },
   "outputs": [],
   "source": [
    "import pickle"
   ]
  },
  {
   "cell_type": "code",
   "execution_count": 0,
   "metadata": {
    "colab": {
     "autoexec": {
      "startup": false,
      "wait_interval": 0
     }
    },
    "colab_type": "code",
    "id": "Tc5k5aFiMwWk"
   },
   "outputs": [],
   "source": [
    "pickle.dump(candidates_pos, open('candidates_pos.p', 'wb'))\n",
    "pickle.dump(candidates_verbs_grammar, open('candidates_verbs_grammar.p', 'wb'))\n",
    "pickle.dump(candidates_nouns_grammar, open('candidates_nouns_grammar.p', 'wb'))\n",
    "pickle.dump(candidates_pronouns_grammar, open('candidates_pronouns_grammar.p', 'wb'))\n",
    "pickle.dump(named_entites, open('named_entites.p', 'wb'))"
   ]
  },
  {
   "cell_type": "code",
   "execution_count": 0,
   "metadata": {
    "colab": {
     "autoexec": {
      "startup": false,
      "wait_interval": 0
     }
    },
    "colab_type": "code",
    "id": "pkuBXC-cM6y4"
   },
   "outputs": [],
   "source": [
    "# candidates_pos = pickle.load(open('candidates_pos.p', 'rb'))"
   ]
  },
  {
   "cell_type": "markdown",
   "metadata": {
    "colab_type": "text",
    "id": "VQyN5TiHo--X"
   },
   "source": [
    "Сейчас у нас в словаре хранятся множества слов, а не списки."
   ]
  },
  {
   "cell_type": "code",
   "execution_count": 0,
   "metadata": {
    "colab": {
     "autoexec": {
      "startup": false,
      "wait_interval": 0
     }
    },
    "colab_type": "code",
    "id": "q2KWD7ayk7A6"
   },
   "outputs": [],
   "source": [
    "candidates_pos = {k: list(v) for k, v in candidates_pos.items()}"
   ]
  },
  {
   "cell_type": "code",
   "execution_count": 0,
   "metadata": {
    "colab": {
     "autoexec": {
      "startup": false,
      "wait_interval": 0
     }
    },
    "colab_type": "code",
    "id": "3-Bh5ZS5KUNT"
   },
   "outputs": [],
   "source": [
    "from google.colab import files"
   ]
  },
  {
   "cell_type": "code",
   "execution_count": 0,
   "metadata": {
    "colab": {
     "autoexec": {
      "startup": false,
      "wait_interval": 0
     }
    },
    "colab_type": "code",
    "id": "cbBwYda2Krkr"
   },
   "outputs": [],
   "source": [
    "files.download('named_entites.p') "
   ]
  },
  {
   "cell_type": "code",
   "execution_count": 0,
   "metadata": {
    "colab": {
     "autoexec": {
      "startup": false,
      "wait_interval": 0
     }
    },
    "colab_type": "code",
    "id": "sh89hcWeLCLA"
   },
   "outputs": [],
   "source": [
    "files.download('candidates_pos.p') \n",
    "files.download('candidates_verbs_grammar.p') \n",
    "files.download('candidates_nouns_grammar.p')\n",
    "files.download('candidates_pronouns_grammar.p') "
   ]
  },
  {
   "cell_type": "markdown",
   "metadata": {
    "colab_type": "text",
    "id": "uywP4HzloXeh"
   },
   "source": [
    "Теперь, когда у нас есть структура данных для каждого типа речи, которая позволяет выбирать по нескольким неизменяемым грамматическим признакам, мы можем выбрать оттуда слово.\n",
    "Для того, чтобы сделать это случайнsм образом, нам нужно использовать функцию choice из библиотеки random."
   ]
  },
  {
   "cell_type": "code",
   "execution_count": 0,
   "metadata": {
    "colab": {
     "autoexec": {
      "startup": false,
      "wait_interval": 0
     }
    },
    "colab_type": "code",
    "id": "VTw0Wy9_SDR_"
   },
   "outputs": [],
   "source": [
    "import random"
   ]
  },
  {
   "cell_type": "markdown",
   "metadata": {
    "colab_type": "text",
    "id": "XhC2SCT9onC8"
   },
   "source": [
    "Пример случайного выбора существительного."
   ]
  },
  {
   "cell_type": "code",
   "execution_count": 83,
   "metadata": {
    "colab": {
     "autoexec": {
      "startup": false,
      "wait_interval": 0
     },
     "base_uri": "https://localhost:8080/",
     "height": 34
    },
    "colab_type": "code",
    "executionInfo": {
     "elapsed": 533,
     "status": "ok",
     "timestamp": 1525886648025,
     "user": {
      "displayName": "Ekaterina Loginova",
      "photoUrl": "//lh5.googleusercontent.com/-rTHOnLQH_r8/AAAAAAAAAAI/AAAAAAAALEs/6WzKwScZqD0/s50-c-k-no/photo.jpg",
      "userId": "104307473242491844073"
     },
     "user_tz": -120
    },
    "id": "heQ8jL2dNws-",
    "outputId": "e842a367-bb9a-4b1f-dff8-1da3cd262481"
   },
   "outputs": [
    {
     "name": "stdout",
     "output_type": "stream",
     "text": [
      "страх\n"
     ]
    }
   ],
   "source": [
    "random_word = random.choice(candidates_pos['S'])\n",
    "print(random_word)"
   ]
  },
  {
   "cell_type": "markdown",
   "metadata": {
    "colab_type": "text",
    "id": "vJYCIbiloz75"
   },
   "source": [
    "Чтобы переключаться между Pymorphy и Mystem, нужно иметь соотношение обозначений граммем. Записываем вручную."
   ]
  },
  {
   "cell_type": "code",
   "execution_count": 0,
   "metadata": {
    "colab": {
     "autoexec": {
      "startup": false,
      "wait_interval": 0
     }
    },
    "colab_type": "code",
    "id": "U5vwsQgRSet7"
   },
   "outputs": [],
   "source": [
    "grammems = {\"наст\": \"pres\",\n",
    "\"непрош\": \"pres\",\n",
    "\"прош\": \"past\",\n",
    "\"им\": \"nomn\",\n",
    "\"род\": \"gent\",\n",
    "\"дат\": \"datv\",\n",
    "\"вин\": \"accs\",\n",
    "\"твор\": \"ablt\",\n",
    "\"пр\": \"loct\",\n",
    "\"парт\": \"gen2\",\n",
    "\"местн\": \"loc2\",\n",
    "\"зват\": \"voct\",\n",
    "\"ед\": \"sing\",\n",
    "\"мн\": \"plur\",\n",
    "\"деепр\": \"GRND\",\n",
    "\"инф\": \"INFN\",\n",
    "\"прич\": \"PRT\",\n",
    "\"изъяв\": \"indc\",\n",
    "\"пов\": \"impr\",\n",
    "\"притяж\": \"Poss\",\n",
    "\"прев\": \"Supr\",\n",
    "\"срав\": \"Cmp2\",\n",
    "\"муж\": \"masc\",\n",
    "\"жен\": \"femn\",\n",
    "\"сред\": \"neut\",\n",
    "\"несов\": \"impf\",\n",
    "\"сов\": \"perf\",\n",
    "\"действ\": \"actv\",\n",
    "\"страд\": \"pssv\",\n",
    "\"од\": \"anim\",\n",
    "\"неод\": \"inan\",\n",
    "\"пе\": \"tran\",\n",
    "\"нп\": \"intr\",\n",
    "\"1-л\": \"1per\",\n",
    "\"2-л\": \"2per\",\n",
    "\"3-л\": \"3per\"}"
   ]
  },
  {
   "cell_type": "markdown",
   "metadata": {
    "colab_type": "text",
    "id": "L6u9B0fqpH8n"
   },
   "source": [
    "Наконец, пишем полную функцию, которая принимает на вход текст, разбивает его на слова и анализирует с помощью Mystem, затем выбирает случайное слово нужной части речи и с нужными характеристиками и, наконец, копирует изменяемые грамматические признаки из слов оригинала в слова нашего сгенерированного предложения."
   ]
  },
  {
   "cell_type": "code",
   "execution_count": 0,
   "metadata": {
    "colab": {
     "autoexec": {
      "startup": false,
      "wait_interval": 0
     }
    },
    "colab_type": "code",
    "id": "1LqkOP3iC8EK"
   },
   "outputs": [],
   "source": [
    "def choose_random_word(possible_values):\n",
    "    return random.choice(possible_values)"
   ]
  },
  {
   "cell_type": "code",
   "execution_count": 0,
   "metadata": {
    "colab": {
     "autoexec": {
      "startup": false,
      "wait_interval": 0
     }
    },
    "colab_type": "code",
    "id": "ej3eKVRoF3Z7"
   },
   "outputs": [],
   "source": [
    "def mystem2pymorphy(mystem_grammems):\n",
    "    pymorphy_grammems = [grammems[x] for x in mystem_grammems if x in grammems.keys()]\n",
    "    if 'кр' in mystem_grammems:\n",
    "        pymorphy_grammems = [x if x not in ['PRT', 'ADJ'] else x + 'S' for x in pymorphy_grammems]\n",
    "    if 'полн' in mystem_grammems:\n",
    "        pymorphy_grammems = [x if x not in ['PRT', 'ADJ'] else x + 'F' for x in pymorphy_grammems]\n",
    "    return set(pymorphy_grammems)"
   ]
  },
  {
   "cell_type": "code",
   "execution_count": 0,
   "metadata": {
    "colab": {
     "autoexec": {
      "startup": false,
      "wait_interval": 0
     }
    },
    "colab_type": "code",
    "id": "Y8caOqz2SUWr"
   },
   "outputs": [],
   "source": [
    "def generate_response(text, verbose=True):\n",
    "    # морфологический разбор текста Mystem'ом\n",
    "    ana = m.analyze(text)\n",
    "\n",
    "    if verbose:\n",
    "        print(ana)\n",
    "\n",
    "    changed_words = []\n",
    "\n",
    "    for an in ana:\n",
    "        word = an['text']\n",
    "        if 'analysis' in an.keys():\n",
    "            non_changeable, changeable = an['analysis'][0]['gr'].split('=')\n",
    "            changeable = changeable.replace(\"(\", \"\").replace(\")\", \"\")\n",
    "            tags = non_changeable.split(',')\n",
    "            if '|' in changeable:\n",
    "                changeable = changeable.split(\"|\")[0]\n",
    "            pos_tag = tags[0]\n",
    "            grammems_to_change = changeable.split(',')\n",
    "\n",
    "            if verbose:\n",
    "                print(\"POS tag:\", pos_tag)\n",
    "\n",
    "            if pos_tag == 'S':\n",
    "                is_ne = False\n",
    "                tags, gender_tag, anim_tag = parse_noun(word)\n",
    "                for label in named_entities_labels:\n",
    "                    if label in tags:\n",
    "                        possible_values = named_entites[label]\n",
    "                        is_ne = True\n",
    "                if not is_ne:\n",
    "                    possible_values = candidates_nouns_grammar[(gender_tag, anim_tag)]\n",
    "            elif pos_tag == 'V':\n",
    "                tags, perf_tag, trans_tag = parse_verb(word)\n",
    "                possible_values = candidates_verbs_grammar[(perf_tag, trans_tag)]\n",
    "            elif pos_tag == 'SPRO':\n",
    "                tags, person_tag, num_tag, gender_tag, anim_tag = parse_pronoun(word)\n",
    "                possible_values = candidates_pronouns_grammar[(person_tag, num_tag, gender_tag, anim_tag )]\n",
    "            elif pos_tag == 'PR':\n",
    "                possible_values = [word]\n",
    "            else:\n",
    "                possible_values = candidates_pos[pos_tag]\n",
    "\n",
    "            random_word = choose_random_word(possible_values)\n",
    "            if verbose:\n",
    "                print('Random word:', random_word)\n",
    "                \n",
    "            parsed = morph.parse(random_word)[0]\n",
    "            if verbose:\n",
    "                print('Grammems to change:', grammems_to_change)\n",
    "            if len(grammems_to_change) > 0:\n",
    "                try:\n",
    "                    inflected_word = parsed.inflect(mystem2pymorphy(grammems_to_change)).word\n",
    "                except Exception as e:\n",
    "                    random_word = choose_random_word(possible_values)\n",
    "                    parsed = morph.parse(random_word)[0]\n",
    "                    if verbose:\n",
    "                        print('Random word:', random_word)\n",
    "                    inflected_word = parsed.inflect(mystem2pymorphy(grammems_to_change)).word\n",
    "            else:\n",
    "                inflected_word = word\n",
    "        else:\n",
    "            inflected_word = word\n",
    "            \n",
    "        if word[0].isupper():\n",
    "            inflected_word = inflected_word.capitalize()\n",
    "            \n",
    "        changed_words.append(inflected_word)\n",
    "        \n",
    "    response = ''.join(changed_words)\n",
    "    if verbose:\n",
    "        print('Response:', response)\n",
    "\n",
    "    return response"
   ]
  },
  {
   "cell_type": "markdown",
   "metadata": {
    "colab_type": "text",
    "id": "SycSl2iIpjw2"
   },
   "source": [
    "Тестируем функцию."
   ]
  },
  {
   "cell_type": "code",
   "execution_count": 0,
   "metadata": {
    "colab": {
     "autoexec": {
      "startup": false,
      "wait_interval": 0
     }
    },
    "colab_type": "code",
    "id": "AWP7LgmK_GqC"
   },
   "outputs": [],
   "source": [
    "m = Mystem()\n",
    "text = 'Мама мыла раму'"
   ]
  },
  {
   "cell_type": "code",
   "execution_count": 132,
   "metadata": {
    "colab": {
     "autoexec": {
      "startup": false,
      "wait_interval": 0
     },
     "base_uri": "https://localhost:8080/",
     "height": 255
    },
    "colab_type": "code",
    "executionInfo": {
     "elapsed": 575,
     "status": "ok",
     "timestamp": 1525888164588,
     "user": {
      "displayName": "Ekaterina Loginova",
      "photoUrl": "//lh5.googleusercontent.com/-rTHOnLQH_r8/AAAAAAAAAAI/AAAAAAAALEs/6WzKwScZqD0/s50-c-k-no/photo.jpg",
      "userId": "104307473242491844073"
     },
     "user_tz": -120
    },
    "id": "vcsmGBy4BZkh",
    "outputId": "8e8ba436-8433-48b8-8df0-7452ef5127f0"
   },
   "outputs": [
    {
     "name": "stdout",
     "output_type": "stream",
     "text": [
      "[{'analysis': [{'lex': 'мама', 'gr': 'S,жен,од=им,ед'}], 'text': 'Мама'}, {'text': ' '}, {'analysis': [{'lex': 'мыть', 'gr': 'V,несов,пе=прош,ед,изъяв,жен'}], 'text': 'мыла'}, {'text': ' '}, {'analysis': [{'lex': 'рама', 'gr': 'S,жен,неод=вин,ед'}], 'text': 'раму'}, {'text': '\\n'}]\n",
      "POS tag: S\n",
      "Random word: красавица\n",
      "Grammems to change: ['им', 'ед']\n",
      "POS tag: V\n",
      "Random word: развивать\n",
      "Grammems to change: ['прош', 'ед', 'изъяв', 'жен']\n",
      "POS tag: S\n",
      "Random word: мелочь\n",
      "Grammems to change: ['вин', 'ед']\n",
      "Response: Красавица развивала мелочь\n",
      "\n"
     ]
    },
    {
     "data": {
      "text/plain": [
       "'Красавица развивала мелочь\\n'"
      ]
     },
     "execution_count": 132,
     "metadata": {
      "tags": []
     },
     "output_type": "execute_result"
    }
   ],
   "source": [
    "generate_response(text)"
   ]
  },
  {
   "cell_type": "code",
   "execution_count": 133,
   "metadata": {
    "colab": {
     "autoexec": {
      "startup": false,
      "wait_interval": 0
     },
     "base_uri": "https://localhost:8080/",
     "height": 50
    },
    "colab_type": "code",
    "executionInfo": {
     "elapsed": 518,
     "status": "ok",
     "timestamp": 1525888189916,
     "user": {
      "displayName": "Ekaterina Loginova",
      "photoUrl": "//lh5.googleusercontent.com/-rTHOnLQH_r8/AAAAAAAAAAI/AAAAAAAALEs/6WzKwScZqD0/s50-c-k-no/photo.jpg",
      "userId": "104307473242491844073"
     },
     "user_tz": -120
    },
    "id": "YmKtSTyThlQZ",
    "outputId": "22de62d3-12b2-4448-e069-e54f40cd0fb2"
   },
   "outputs": [
    {
     "name": "stdout",
     "output_type": "stream",
     "text": [
      "Княгиню глядела флаг\n",
      "\n"
     ]
    }
   ],
   "source": [
    "text = 'Мышь ждала сыр'\n",
    "response = generate_response(text, False)\n",
    "print(response)"
   ]
  },
  {
   "cell_type": "code",
   "execution_count": 136,
   "metadata": {
    "colab": {
     "autoexec": {
      "startup": false,
      "wait_interval": 0
     },
     "base_uri": "https://localhost:8080/",
     "height": 168
    },
    "colab_type": "code",
    "executionInfo": {
     "elapsed": 507,
     "status": "ok",
     "timestamp": 1525888265756,
     "user": {
      "displayName": "Ekaterina Loginova",
      "photoUrl": "//lh5.googleusercontent.com/-rTHOnLQH_r8/AAAAAAAAAAI/AAAAAAAALEs/6WzKwScZqD0/s50-c-k-no/photo.jpg",
      "userId": "104307473242491844073"
     },
     "user_tz": -120
    },
    "id": "SohxNV5CBwHX",
    "outputId": "186480be-9637-482e-ed73-fa0df6bc7c07"
   },
   "outputs": [
    {
     "data": {
      "text/plain": [
       "[{'analysis': [{'gr': 'S,жен,од=(вин,ед|им,ед)', 'lex': 'мышь'}],\n",
       "  'text': 'Мышь'},\n",
       " {'text': ' '},\n",
       " {'analysis': [{'gr': 'V,несов,пе=прош,ед,изъяв,жен', 'lex': 'ждать'}],\n",
       "  'text': 'ждала'},\n",
       " {'text': ' '},\n",
       " {'analysis': [{'gr': 'S,муж,неод=(вин,ед|им,ед)', 'lex': 'сыр'}],\n",
       "  'text': 'сыр'},\n",
       " {'text': '\\n'}]"
      ]
     },
     "execution_count": 136,
     "metadata": {
      "tags": []
     },
     "output_type": "execute_result"
    }
   ],
   "source": [
    "m.analyze(text)"
   ]
  },
  {
   "cell_type": "code",
   "execution_count": 137,
   "metadata": {
    "colab": {
     "autoexec": {
      "startup": false,
      "wait_interval": 0
     },
     "base_uri": "https://localhost:8080/",
     "height": 50
    },
    "colab_type": "code",
    "executionInfo": {
     "elapsed": 502,
     "status": "ok",
     "timestamp": 1525888277010,
     "user": {
      "displayName": "Ekaterina Loginova",
      "photoUrl": "//lh5.googleusercontent.com/-rTHOnLQH_r8/AAAAAAAAAAI/AAAAAAAALEs/6WzKwScZqD0/s50-c-k-no/photo.jpg",
      "userId": "104307473242491844073"
     },
     "user_tz": -120
    },
    "id": "0p-vdr6hBlEa",
    "outputId": "c8f99c79-8b59-4a18-850a-fb0ff7ac6ef8"
   },
   "outputs": [
    {
     "name": "stdout",
     "output_type": "stream",
     "text": [
      "Мастер плакал на стенке\n",
      "\n"
     ]
    }
   ],
   "source": [
    "text = 'Рыцарь стоял на страже'\n",
    "response = generate_response(text, False)\n",
    "print(response)"
   ]
  },
  {
   "cell_type": "code",
   "execution_count": 140,
   "metadata": {
    "colab": {
     "autoexec": {
      "startup": false,
      "wait_interval": 0
     },
     "base_uri": "https://localhost:8080/",
     "height": 50
    },
    "colab_type": "code",
    "executionInfo": {
     "elapsed": 567,
     "status": "ok",
     "timestamp": 1525888336653,
     "user": {
      "displayName": "Ekaterina Loginova",
      "photoUrl": "//lh5.googleusercontent.com/-rTHOnLQH_r8/AAAAAAAAAAI/AAAAAAAALEs/6WzKwScZqD0/s50-c-k-no/photo.jpg",
      "userId": "104307473242491844073"
     },
     "user_tz": -120
    },
    "id": "WDQAYmxfiAu_",
    "outputId": "b68fca83-d608-45d1-8e58-102b392f4eda"
   },
   "outputs": [
    {
     "name": "stdout",
     "output_type": "stream",
     "text": [
      "Кто способствует из-за величины\n",
      "\n"
     ]
    }
   ],
   "source": [
    "text = 'Кто-то стучит из-за стены'\n",
    "response = generate_response(text, False)\n",
    "print(response)"
   ]
  },
  {
   "cell_type": "code",
   "execution_count": 141,
   "metadata": {
    "colab": {
     "autoexec": {
      "startup": false,
      "wait_interval": 0
     },
     "base_uri": "https://localhost:8080/",
     "height": 50
    },
    "colab_type": "code",
    "executionInfo": {
     "elapsed": 557,
     "status": "ok",
     "timestamp": 1525888356703,
     "user": {
      "displayName": "Ekaterina Loginova",
      "photoUrl": "//lh5.googleusercontent.com/-rTHOnLQH_r8/AAAAAAAAAAI/AAAAAAAALEs/6WzKwScZqD0/s50-c-k-no/photo.jpg",
      "userId": "104307473242491844073"
     },
     "user_tz": -120
    },
    "id": "mj1kL9UICFv5",
    "outputId": "a57891e7-b412-4bac-85dd-b50d0464e895"
   },
   "outputs": [
    {
     "name": "stdout",
     "output_type": "stream",
     "text": [
      "Я добивается россиянин\n",
      "\n"
     ]
    }
   ],
   "source": [
    "text = 'Я есть царь'\n",
    "response = generate_response(text, False)\n",
    "print(response)"
   ]
  },
  {
   "cell_type": "code",
   "execution_count": 144,
   "metadata": {
    "colab": {
     "autoexec": {
      "startup": false,
      "wait_interval": 0
     },
     "base_uri": "https://localhost:8080/",
     "height": 50
    },
    "colab_type": "code",
    "executionInfo": {
     "elapsed": 554,
     "status": "ok",
     "timestamp": 1525888497161,
     "user": {
      "displayName": "Ekaterina Loginova",
      "photoUrl": "//lh5.googleusercontent.com/-rTHOnLQH_r8/AAAAAAAAAAI/AAAAAAAALEs/6WzKwScZqD0/s50-c-k-no/photo.jpg",
      "userId": "104307473242491844073"
     },
     "user_tz": -120
    },
    "id": "17yjff7ZCP6a",
    "outputId": "4035eaac-6c1f-4c5e-e0b0-b53526e88752"
   },
   "outputs": [
    {
     "name": "stdout",
     "output_type": "stream",
     "text": [
      "Я из Казани\n",
      "\n"
     ]
    }
   ],
   "source": [
    "text = 'Я из Британии'\n",
    "response = generate_response(text, False)\n",
    "print(response)"
   ]
  },
  {
   "cell_type": "code",
   "execution_count": 145,
   "metadata": {
    "colab": {
     "autoexec": {
      "startup": false,
      "wait_interval": 0
     },
     "base_uri": "https://localhost:8080/",
     "height": 50
    },
    "colab_type": "code",
    "executionInfo": {
     "elapsed": 480,
     "status": "ok",
     "timestamp": 1525888508119,
     "user": {
      "displayName": "Ekaterina Loginova",
      "photoUrl": "//lh5.googleusercontent.com/-rTHOnLQH_r8/AAAAAAAAAAI/AAAAAAAALEs/6WzKwScZqD0/s50-c-k-no/photo.jpg",
      "userId": "104307473242491844073"
     },
     "user_tz": -120
    },
    "id": "sYFhB9w5CRvL",
    "outputId": "e5da945f-e801-4a0e-9d7d-df83c590730f"
   },
   "outputs": [
    {
     "name": "stdout",
     "output_type": "stream",
     "text": [
      "Он женился по Ссср\n",
      "\n"
     ]
    }
   ],
   "source": [
    "text = 'Он пришёл по Арбату'\n",
    "response = generate_response(text, False)\n",
    "print(response)"
   ]
  },
  {
   "cell_type": "code",
   "execution_count": 162,
   "metadata": {
    "colab": {
     "autoexec": {
      "startup": false,
      "wait_interval": 0
     },
     "base_uri": "https://localhost:8080/",
     "height": 373
    },
    "colab_type": "code",
    "executionInfo": {
     "elapsed": 527,
     "status": "ok",
     "timestamp": 1525889143471,
     "user": {
      "displayName": "Ekaterina Loginova",
      "photoUrl": "//lh5.googleusercontent.com/-rTHOnLQH_r8/AAAAAAAAAAI/AAAAAAAALEs/6WzKwScZqD0/s50-c-k-no/photo.jpg",
      "userId": "104307473242491844073"
     },
     "user_tz": -120
    },
    "id": "nRZe1Ea6CuSd",
    "outputId": "ab49198e-af19-46db-ed8d-a893eaca6072"
   },
   "outputs": [
    {
     "name": "stdout",
     "output_type": "stream",
     "text": [
      "[{'analysis': [{'lex': 'жениться', 'gr': 'V,нп=прош,деепр,сов'}], 'text': 'Женившись'}, {'text': ' '}, {'analysis': [{'lex': 'на', 'gr': 'PR='}], 'text': 'на'}, {'text': ' '}, {'analysis': [{'lex': 'она', 'gr': 'SPRO,ед,3-л,жен=(пр|дат|род|твор)'}], 'text': 'ней'}, {'text': ', '}, {'analysis': [{'lex': 'он', 'gr': 'SPRO,ед,3-л,муж=им'}], 'text': 'он'}, {'text': ' '}, {'analysis': [{'lex': 'упасть', 'gr': 'V,сов,нп=прош,ед,изъяв,муж'}], 'text': 'упал'}, {'text': '\\n'}]\n",
      "POS tag: V\n",
      "Random word: послышаться\n",
      "Grammems to change: ['прош', 'деепр', 'сов']\n",
      "POS tag: PR\n",
      "Random word: на\n",
      "Grammems to change: ['']\n",
      "POS tag: SPRO\n",
      "Random word: она\n",
      "Grammems to change: ['пр']\n",
      "POS tag: SPRO\n",
      "Random word: он\n",
      "Grammems to change: ['им']\n",
      "POS tag: V\n",
      "Random word: помолчать\n",
      "Grammems to change: ['прош', 'ед', 'изъяв', 'муж']\n",
      "Response: Послышавшись на ней, он помолчал\n",
      "\n",
      "Послышавшись на ней, он помолчал\n",
      "\n"
     ]
    }
   ],
   "source": [
    "text = 'Женившись на ней, он упал'\n",
    "response = generate_response(text, True)\n",
    "print(response)"
   ]
  },
  {
   "cell_type": "code",
   "execution_count": 163,
   "metadata": {
    "colab": {
     "autoexec": {
      "startup": false,
      "wait_interval": 0
     },
     "base_uri": "https://localhost:8080/",
     "height": 373
    },
    "colab_type": "code",
    "executionInfo": {
     "elapsed": 508,
     "status": "ok",
     "timestamp": 1525889159428,
     "user": {
      "displayName": "Ekaterina Loginova",
      "photoUrl": "//lh5.googleusercontent.com/-rTHOnLQH_r8/AAAAAAAAAAI/AAAAAAAALEs/6WzKwScZqD0/s50-c-k-no/photo.jpg",
      "userId": "104307473242491844073"
     },
     "user_tz": -120
    },
    "id": "j6JsEoJ9C0Rn",
    "outputId": "95bbdf54-b8ce-4c34-b58d-842d08483e67"
   },
   "outputs": [
    {
     "name": "stdout",
     "output_type": "stream",
     "text": [
      "[{'analysis': [{'lex': 'жениться', 'gr': 'V,нп=прош,деепр,сов'}], 'text': 'Женившись'}, {'text': ' '}, {'analysis': [{'lex': 'на', 'gr': 'PR='}], 'text': 'на'}, {'text': ' '}, {'analysis': [{'lex': 'она', 'gr': 'SPRO,ед,3-л,жен=(пр|дат|род|твор)'}], 'text': 'ней'}, {'text': ', '}, {'analysis': [{'lex': 'он', 'gr': 'SPRO,ед,3-л,муж=им'}], 'text': 'он'}, {'text': ' '}, {'analysis': [{'lex': 'упасть', 'gr': 'V,сов,нп=прош,ед,изъяв,муж'}], 'text': 'упал'}, {'text': '\\n'}]\n",
      "POS tag: V\n",
      "Random word: позвонить\n",
      "Grammems to change: ['прош', 'деепр', 'сов']\n",
      "POS tag: PR\n",
      "Random word: на\n",
      "Grammems to change: ['']\n",
      "POS tag: SPRO\n",
      "Random word: она\n",
      "Grammems to change: ['пр']\n",
      "POS tag: SPRO\n",
      "Random word: он\n",
      "Grammems to change: ['им']\n",
      "POS tag: V\n",
      "Random word: познакомиться\n",
      "Grammems to change: ['прош', 'ед', 'изъяв', 'муж']\n",
      "Response: Позвонив на ней, он познакомился\n",
      "\n",
      "Позвонив на ней, он познакомился\n",
      "\n"
     ]
    }
   ],
   "source": [
    "text = 'Женившись на ней, он упал'\n",
    "response = generate_response(text, True)\n",
    "print(response)"
   ]
  },
  {
   "cell_type": "code",
   "execution_count": 164,
   "metadata": {
    "colab": {
     "autoexec": {
      "startup": false,
      "wait_interval": 0
     },
     "base_uri": "https://localhost:8080/",
     "height": 322
    },
    "colab_type": "code",
    "executionInfo": {
     "elapsed": 450,
     "status": "ok",
     "timestamp": 1525889204184,
     "user": {
      "displayName": "Ekaterina Loginova",
      "photoUrl": "//lh5.googleusercontent.com/-rTHOnLQH_r8/AAAAAAAAAAI/AAAAAAAALEs/6WzKwScZqD0/s50-c-k-no/photo.jpg",
      "userId": "104307473242491844073"
     },
     "user_tz": -120
    },
    "id": "b9HnMLxYFVng",
    "outputId": "eddc052b-8cae-40a0-c4ee-015ffa24fba4"
   },
   "outputs": [
    {
     "name": "stdout",
     "output_type": "stream",
     "text": [
      "[{'analysis': [{'lex': 'двенадцатый', 'gr': 'ANUM=(вин,ед,муж,од|род,ед,муж|род,ед,сред)'}], 'text': 'Двенадцатого'}, {'text': ' '}, {'analysis': [{'lex': 'апрель', 'gr': 'S,муж,неод=род,ед'}], 'text': 'апреля'}, {'text': ' '}, {'analysis': [{'lex': 'случаться', 'gr': 'V,нп=прош,ед,изъяв,сред,сов'}], 'text': 'случилось'}, {'text': ' '}, {'analysis': [{'lex': 'чудо', 'gr': 'S,сред,неод=(вин,ед|им,ед)'}], 'text': 'чудо'}, {'text': '\\n'}]\n",
      "POS tag: ANUM\n",
      "Random word: первый\n",
      "Grammems to change: ['вин', 'ед', 'муж', 'од']\n",
      "POS tag: S\n",
      "Random word: ком\n",
      "Grammems to change: ['род', 'ед']\n",
      "POS tag: V\n",
      "Random word: рассмеяться\n",
      "Grammems to change: ['прош', 'ед', 'изъяв', 'сред', 'сов']\n",
      "POS tag: S\n",
      "Random word: оборудование\n",
      "Grammems to change: ['вин', 'ед']\n",
      "Response: Первого кома рассмеялось оборудование\n",
      "\n",
      "Первого кома рассмеялось оборудование\n",
      "\n"
     ]
    }
   ],
   "source": [
    "text = 'Двенадцатого апреля случилось чудо'\n",
    "response = generate_response(text, True)\n",
    "print(response)"
   ]
  },
  {
   "cell_type": "code",
   "execution_count": 165,
   "metadata": {
    "colab": {
     "autoexec": {
      "startup": false,
      "wait_interval": 0
     },
     "base_uri": "https://localhost:8080/",
     "height": 373
    },
    "colab_type": "code",
    "executionInfo": {
     "elapsed": 467,
     "status": "ok",
     "timestamp": 1525889221191,
     "user": {
      "displayName": "Ekaterina Loginova",
      "photoUrl": "//lh5.googleusercontent.com/-rTHOnLQH_r8/AAAAAAAAAAI/AAAAAAAALEs/6WzKwScZqD0/s50-c-k-no/photo.jpg",
      "userId": "104307473242491844073"
     },
     "user_tz": -120
    },
    "id": "MhUVsrGYFZqS",
    "outputId": "1f394d4d-6de4-4c66-ddab-43eba21e5cf0"
   },
   "outputs": [
    {
     "name": "stdout",
     "output_type": "stream",
     "text": [
      "[{'analysis': [{'lex': 'он', 'gr': 'SPRO,ед,3-л,муж=им'}], 'text': 'Он'}, {'text': ' '}, {'analysis': [{'lex': 'загодя', 'gr': 'ADV='}], 'text': 'загодя'}, {'text': ' '}, {'analysis': [{'lex': 'подходить', 'gr': 'V,нп=прош,ед,изъяв,муж,сов'}], 'text': 'подошёл'}, {'text': ' '}, {'analysis': [{'lex': 'к', 'gr': 'PR='}], 'text': 'к'}, {'text': ' '}, {'analysis': [{'lex': 'дверь', 'gr': 'S,жен,неод=(пр,ед|вин,мн|дат,ед|род,ед|им,мн|местн,ед)'}], 'text': 'двери'}, {'text': '\\n'}]\n",
      "POS tag: SPRO\n",
      "Random word: он\n",
      "Grammems to change: ['им']\n",
      "POS tag: ADV\n",
      "Random word: вокруг\n",
      "Grammems to change: ['']\n",
      "POS tag: V\n",
      "Random word: воспользоваться\n",
      "Grammems to change: ['прош', 'ед', 'изъяв', 'муж', 'сов']\n",
      "POS tag: PR\n",
      "Random word: к\n",
      "Grammems to change: ['']\n",
      "POS tag: S\n",
      "Random word: скала\n",
      "Grammems to change: ['пр', 'ед']\n",
      "Response: Он вокруг воспользовался к скале\n",
      "\n",
      "Он вокруг воспользовался к скале\n",
      "\n"
     ]
    }
   ],
   "source": [
    "text = 'Он загодя подошёл к двери'\n",
    "response = generate_response(text, True)\n",
    "print(response)"
   ]
  },
  {
   "cell_type": "code",
   "execution_count": 166,
   "metadata": {
    "colab": {
     "autoexec": {
      "startup": false,
      "wait_interval": 0
     },
     "base_uri": "https://localhost:8080/",
     "height": 423
    },
    "colab_type": "code",
    "executionInfo": {
     "elapsed": 477,
     "status": "ok",
     "timestamp": 1525889237562,
     "user": {
      "displayName": "Ekaterina Loginova",
      "photoUrl": "//lh5.googleusercontent.com/-rTHOnLQH_r8/AAAAAAAAAAI/AAAAAAAALEs/6WzKwScZqD0/s50-c-k-no/photo.jpg",
      "userId": "104307473242491844073"
     },
     "user_tz": -120
    },
    "id": "bM3JDy69FdA0",
    "outputId": "289b712f-2306-4f09-b1c9-1208f47aeaf9"
   },
   "outputs": [
    {
     "name": "stdout",
     "output_type": "stream",
     "text": [
      "[{'analysis': [{'lex': 'рассмеяться', 'gr': 'V,сов,нп=прош,ед,изъяв,жен'}], 'text': 'Рассмеялась'}, {'text': ' '}, {'analysis': [{'lex': 'буря', 'gr': 'S,жен,неод=им,ед'}], 'text': 'буря'}, {'text': ' '}, {'analysis': [{'lex': 'и', 'gr': 'CONJ='}], 'text': 'и'}, {'text': ' '}, {'analysis': [{'lex': 'понестись', 'gr': 'V,сов,нп=прош,мн,изъяв'}], 'text': 'понеслись'}, {'text': ' '}, {'analysis': [{'lex': 'туча', 'gr': 'S,жен,неод=(вин,мн|род,ед|им,мн)'}], 'text': 'тучи'}, {'text': ' '}, {'analysis': [{'lex': 'врозь', 'gr': 'ADV='}], 'text': 'врозь'}, {'text': '\\n'}]\n",
      "POS tag: V\n",
      "Random word: вернуться\n",
      "Grammems to change: ['прош', 'ед', 'изъяв', 'жен']\n",
      "POS tag: S\n",
      "Random word: группа\n",
      "Grammems to change: ['им', 'ед']\n",
      "POS tag: CONJ\n",
      "Random word: или\n",
      "Grammems to change: ['']\n",
      "POS tag: V\n",
      "Random word: заорать\n",
      "Grammems to change: ['прош', 'мн', 'изъяв']\n",
      "POS tag: S\n",
      "Random word: палата\n",
      "Grammems to change: ['вин', 'мн']\n",
      "POS tag: ADV\n",
      "Random word: социально\n",
      "Grammems to change: ['']\n",
      "Response: Вернулась группа или заорали палаты социально\n",
      "\n",
      "Вернулась группа или заорали палаты социально\n",
      "\n"
     ]
    }
   ],
   "source": [
    "text = 'Рассмеялась буря и понеслись тучи врозь'\n",
    "response = generate_response(text, True)\n",
    "print(response)"
   ]
  },
  {
   "cell_type": "code",
   "execution_count": 198,
   "metadata": {
    "colab": {
     "autoexec": {
      "startup": false,
      "wait_interval": 0
     },
     "base_uri": "https://localhost:8080/",
     "height": 658
    },
    "colab_type": "code",
    "executionInfo": {
     "elapsed": 622,
     "status": "ok",
     "timestamp": 1525890346579,
     "user": {
      "displayName": "Ekaterina Loginova",
      "photoUrl": "//lh5.googleusercontent.com/-rTHOnLQH_r8/AAAAAAAAAAI/AAAAAAAALEs/6WzKwScZqD0/s50-c-k-no/photo.jpg",
      "userId": "104307473242491844073"
     },
     "user_tz": -120
    },
    "id": "M11EbFsuFhBx",
    "outputId": "70fb1166-8aa3-41dd-d511-b6fd484ebd39"
   },
   "outputs": [
    {
     "name": "stdout",
     "output_type": "stream",
     "text": [
      "[{'analysis': [{'lex': 'и', 'gr': 'CONJ='}], 'text': 'И'}, {'text': ' '}, {'analysis': [{'lex': 'ради', 'gr': 'PR='}], 'text': 'ради'}, {'text': ' '}, {'analysis': [{'lex': 'ли', 'gr': 'CONJ='}], 'text': 'ли'}, {'text': ' '}, {'analysis': [{'lex': 'этот', 'gr': 'APRO=(вин,ед,муж,од|род,ед,муж|род,ед,сред)'}], 'text': 'этого'}, {'text': ' '}, {'analysis': [{'lex': 'воскрикивать', 'qual': 'bastard', 'gr': 'V,нп=прош,ед,изъяв,жен,сов'}], 'text': 'воскрикнула'}, {'text': ' '}, {'analysis': [{'lex': 'покраснеть', 'gr': 'V,сов,нп=прош,им,ед,прич,полн,жен,действ'}], 'text': 'покрасневшая'}, {'text': ' '}, {'analysis': [{'lex': 'поэтесса', 'gr': 'S,жен,од=им,ед'}], 'text': 'поэтесса'}, {'text': ' \"'}, {'analysis': [{'lex': 'ах', 'gr': 'INTJ='}], 'text': 'Ах'}, {'text': '!'}, {'text': '\"\\n'}]\n",
      "changeable: \n",
      "POS tag: CONJ\n",
      "Random word: или\n",
      "Grammems to change: ['']\n",
      "changeable: \n",
      "POS tag: PR\n",
      "Random word: ради\n",
      "Grammems to change: ['']\n",
      "changeable: \n",
      "POS tag: CONJ\n",
      "Random word: иначе\n",
      "Grammems to change: ['']\n",
      "changeable: вин,ед,муж,од\n",
      "POS tag: APRO\n",
      "Random word: какой-то\n",
      "Grammems to change: ['вин', 'ед', 'муж', 'од']\n",
      "changeable: прош,ед,изъяв,жен,сов\n",
      "POS tag: V\n",
      "Random word: воспользоваться\n",
      "Grammems to change: ['прош', 'ед', 'изъяв', 'жен', 'сов']\n",
      "changeable: прош,им,ед,прич,полн,жен,действ\n",
      "POS tag: V\n",
      "Random word: понравиться\n",
      "Grammems to change: ['прош', 'им', 'ед', 'прич', 'полн', 'жен', 'действ']\n",
      "changeable: им,ед\n",
      "POS tag: S\n",
      "Random word: сорока\n",
      "Grammems to change: ['им', 'ед']\n",
      "changeable: \n",
      "POS tag: INTJ\n",
      "Random word: ах\n",
      "Grammems to change: ['']\n",
      "Response: Или ради иначе какого-то воспользовалась понравившаяся сороковой \"Ах!\"\n",
      "\n",
      "Или ради иначе какого-то воспользовалась понравившаяся сороковой \"Ах!\"\n",
      "\n"
     ]
    }
   ],
   "source": [
    "text = 'И ради ли этого воскрикнула покрасневшая поэтесса \"Ах!\"'\n",
    "response = generate_response(text, True)\n",
    "print(response)"
   ]
  },
  {
   "cell_type": "code",
   "execution_count": 199,
   "metadata": {
    "colab": {
     "autoexec": {
      "startup": false,
      "wait_interval": 0
     },
     "base_uri": "https://localhost:8080/",
     "height": 524
    },
    "colab_type": "code",
    "executionInfo": {
     "elapsed": 478,
     "status": "ok",
     "timestamp": 1525890427184,
     "user": {
      "displayName": "Ekaterina Loginova",
      "photoUrl": "//lh5.googleusercontent.com/-rTHOnLQH_r8/AAAAAAAAAAI/AAAAAAAALEs/6WzKwScZqD0/s50-c-k-no/photo.jpg",
      "userId": "104307473242491844073"
     },
     "user_tz": -120
    },
    "id": "7_B80vPrKAB2",
    "outputId": "f86ab78d-91b5-4478-87ef-34c25bf73a33"
   },
   "outputs": [
    {
     "name": "stdout",
     "output_type": "stream",
     "text": [
      "[{'analysis': [{'lex': 'свернуться', 'gr': 'V,сов,нп=прош,деепр'}], 'text': 'Свернувшись'}, {'text': ' '}, {'analysis': [{'lex': 'в', 'gr': 'PR='}], 'text': 'в'}, {'text': ' '}, {'analysis': [{'lex': 'клубок', 'gr': 'S,муж,неод=(вин,ед|им,ед)'}], 'text': 'клубок'}, {'text': ', '}, {'analysis': [{'lex': 'я', 'gr': 'SPRO,ед,1-л=им'}], 'text': 'я'}, {'text': ' '}, {'analysis': [{'lex': 'мерно', 'gr': 'ADV='}], 'text': 'мерно'}, {'text': ' '}, {'analysis': [{'lex': 'дышать', 'gr': 'V,несов,нп=прош,ед,изъяв,муж'}], 'text': 'дышал'}, {'text': '\\n'}]\n",
      "changeable: прош,деепр\n",
      "POS tag: V\n",
      "Random word: полезть\n",
      "Grammems to change: ['прош', 'деепр']\n",
      "changeable: \n",
      "POS tag: PR\n",
      "Random word: в\n",
      "Grammems to change: ['']\n",
      "changeable: вин,ед\n",
      "POS tag: S\n",
      "Random word: запас\n",
      "Grammems to change: ['вин', 'ед']\n",
      "changeable: им\n",
      "POS tag: SPRO\n",
      "Random word: я\n",
      "Grammems to change: ['им']\n",
      "changeable: \n",
      "POS tag: ADV\n",
      "Random word: дома\n",
      "Grammems to change: ['']\n",
      "changeable: прош,ед,изъяв,муж\n",
      "POS tag: V\n",
      "Random word: дрожать\n",
      "Grammems to change: ['прош', 'ед', 'изъяв', 'муж']\n",
      "Response: Полезши в запас, я дома дрожал\n",
      "\n",
      "Полезши в запас, я дома дрожал\n",
      "\n"
     ]
    }
   ],
   "source": [
    "text = 'Свернувшись в клубок, я мерно дышал'\n",
    "response = generate_response(text, True)\n",
    "print(response)"
   ]
  },
  {
   "cell_type": "markdown",
   "metadata": {
    "colab_type": "text",
    "id": "21pWXvll4MBV"
   },
   "source": [
    "**Задание:** сделать выбор разбора pyMorphy через разбор Mystem"
   ]
  },
  {
   "cell_type": "markdown",
   "metadata": {
    "colab_type": "text",
    "id": "z0QQkVwIp58J"
   },
   "source": [
    "# Веб-интерфейс"
   ]
  },
  {
   "cell_type": "markdown",
   "metadata": {
    "colab_type": "text",
    "id": "nP_3GUWoqGQP"
   },
   "source": [
    "1. Зарегистрироваться на https://pythonanywhere.com\n",
    "2. Открыть Bash консоль и создать виртуальную переменную. https://help.pythonanywhere.com/pages/VirtualEnvForNewerDjango\n",
    "3. Установить необходимые библиотеки. https://help.pythonanywhere.com/pages/InstallingNewModules/\n",
    "4. Указать созданную виртуальную переменную в настройках веб-приложения. https://www.pythonanywhere.com/user/uchido/webapps/#tab_id_uchido_pythonanywhere_com\n",
    "5. Скачать распакованный корпус и положить его в рабочую директорию веб-приложения.\n",
    "6. Создать папку templates в рабочей директории веб-приложения и создать там файл index.html с кодом Bootstrap шаблона (можно скопировать исходный код примера: https://getbootstrap.com/docs/4.1/examples/starter-template/)\n",
    "7. Flask код веб-приложения содержится в flask_app.py"
   ]
  },
  {
   "cell_type": "markdown",
   "metadata": {
    "colab_type": "text",
    "id": "wgzR_OZQrEqa"
   },
   "source": [
    "Самое базовое приложение - печатает строчку."
   ]
  },
  {
   "cell_type": "code",
   "execution_count": 0,
   "metadata": {
    "colab": {
     "autoexec": {
      "startup": false,
      "wait_interval": 0
     }
    },
    "colab_type": "code",
    "id": "p0vtaGhurEzR"
   },
   "outputs": [],
   "source": [
    "from flask import Flask\n",
    "\n",
    "app = Flask(__name__)\n",
    "\n",
    "@app.route('/')\n",
    "def hello_world():\n",
    "    return 'Hello from Flask!'"
   ]
  },
  {
   "cell_type": "markdown",
   "metadata": {
    "colab_type": "text",
    "id": "4o1gJCyJrJwk"
   },
   "source": [
    "Добавляем отображение HTML шаблона"
   ]
  },
  {
   "cell_type": "code",
   "execution_count": 0,
   "metadata": {
    "colab": {
     "autoexec": {
      "startup": false,
      "wait_interval": 0
     }
    },
    "colab_type": "code",
    "id": "E409LSukrJbr"
   },
   "outputs": [],
   "source": [
    "from flask import render_template\n",
    "@app.route('/')\n",
    "def main():\n",
    "    return render_template('index.html'"
   ]
  },
  {
   "cell_type": "markdown",
   "metadata": {
    "colab_type": "text",
    "id": "5jxiIxtgrMN_"
   },
   "source": [
    "Добавляем вывод текста"
   ]
  },
  {
   "cell_type": "markdown",
   "metadata": {
    "colab_type": "text",
    "id": "6r2glLserXXb"
   },
   "source": [
    "\n",
    "\n",
    "```\n",
    "        <p>\n",
    "            {{statement|safe}}\n",
    "        </p>\n",
    "```\n",
    "\n"
   ]
  },
  {
   "cell_type": "code",
   "execution_count": 0,
   "metadata": {
    "colab": {
     "autoexec": {
      "startup": false,
      "wait_interval": 0
     }
    },
    "colab_type": "code",
    "id": "EMgYlMsSrNB7"
   },
   "outputs": [],
   "source": [
    "from flask import render_template\n",
    "@app.route('/')\n",
    "def main():\n",
    "    return render_template('index.html', statement = \"Hello!\")"
   ]
  },
  {
   "cell_type": "markdown",
   "metadata": {
    "colab_type": "text",
    "id": "ZE5QVKZyrO_n"
   },
   "source": [
    "Добавляем получение текста от пользователя"
   ]
  },
  {
   "cell_type": "markdown",
   "metadata": {
    "colab_type": "text",
    "id": "18g8s72krZsy"
   },
   "source": [
    "\n",
    "\n",
    "```\n",
    "<form method=\"POST\">\n",
    "  <input name=\"text\">\n",
    "  <input type=\"submit\">\n",
    "</form>\n",
    "```\n",
    "\n"
   ]
  },
  {
   "cell_type": "code",
   "execution_count": 0,
   "metadata": {
    "colab": {
     "autoexec": {
      "startup": false,
      "wait_interval": 0
     }
    },
    "colab_type": "code",
    "id": "QJ3Z5iLFrOs2"
   },
   "outputs": [],
   "source": [
    "from flask import request\n",
    "@app.route('/')\n",
    "def main():\n",
    "    return render_template('index.html')\n",
    "\n",
    "@app.route('/', methods=['POST'])\n",
    "def main_post():\n",
    "    statement = request.form['text']\n",
    "    return render_template('index.html', statement = statement)"
   ]
  },
  {
   "cell_type": "markdown",
   "metadata": {
    "colab_type": "text",
    "id": "mRhxs_omreFb"
   },
   "source": [
    "Добавляем работу с библиотеками."
   ]
  },
  {
   "cell_type": "code",
   "execution_count": 0,
   "metadata": {
    "colab": {
     "autoexec": {
      "startup": false,
      "wait_interval": 0
     }
    },
    "colab_type": "code",
    "id": "OP9T66Jep5fO"
   },
   "outputs": [],
   "source": [
    "from pymystem3 import Mystem\n",
    "import pymorphy2\n",
    "from pymorphy2 import MorphAnalyzer\n",
    "morph = MorphAnalyzer()\n",
    "m = Mystem()\n",
    "\n",
    "@app.route('/')\n",
    "def main():\n",
    "    return render_template('index.html')\n",
    "\n",
    "@app.route('/', methods=['POST'])\n",
    "def main_post():\n",
    "    statement = m.analyze(request.form['text'])\n",
    "    return render_template('index.html', statement = statement)"
   ]
  }
 ],
 "metadata": {
  "colab": {
   "collapsed_sections": [],
   "default_view": {},
   "name": "python_morphological_analysis_russian",
   "provenance": [
    {
     "file_id": "10ab9njCv4y_K91beZVJ0g2PPP7RiJYBM",
     "timestamp": 1525701796640
    },
    {
     "file_id": "1enO0r9Ads5KkaOkqUb_08kobOAluhcpe",
     "timestamp": 1525506625049
    }
   ],
   "version": "0.3.2",
   "views": {}
  },
  "kernelspec": {
   "display_name": "Python 3",
   "language": "python",
   "name": "python3"
  },
  "language_info": {
   "codemirror_mode": {
    "name": "ipython",
    "version": 3
   },
   "file_extension": ".py",
   "mimetype": "text/x-python",
   "name": "python",
   "nbconvert_exporter": "python",
   "pygments_lexer": "ipython3",
   "version": "3.6.4"
  }
 },
 "nbformat": 4,
 "nbformat_minor": 1
}
