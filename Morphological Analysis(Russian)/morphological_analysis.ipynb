{
 "cells": [
  {
   "cell_type": "markdown",
   "metadata": {
    "colab_type": "text",
    "id": "EHHK2KdKFbt0"
   },
   "source": [
    "# Домашнее задание"
   ]
  },
  {
   "cell_type": "markdown",
   "metadata": {
    "colab_type": "text",
    "id": "1yOZlmniLlkE"
   },
   "source": [
    "**Задание:** Написать веб-сервис (или бота), с которой можно разговаривать: пользователь пишет ей реплику, а она отвечает предложением, в котором все слова заменены на какие-то случайные другие слова той же части речи и с теми же грамматическими характеристиками. Предложение-ответ должно быть согласованным.\n",
    "\n",
    "Например, на фразу \"Мама мыла раму\" программа может ответить \"Девочка пела песню\".\n",
    "\n",
    "Решение нужно разместить на PythonAnywhere.\n",
    "\n",
    "Для такой программы вам понадобится большой список русских слов:\n",
    "\n",
    "можно взять список словоформ с сайта НКРЯ - http://ruscorpora.ru/corpora-freq.html\n",
    "можно взять просто любой большой текст, вытащить из него слова и использовать их.\n",
    "\n",
    "Из этого списка вам нужен только список разных лемм разных частей речи, и затем нужно будет использовать функции parse и inflect."
   ]
  },
  {
   "cell_type": "markdown",
   "metadata": {
    "colab_type": "text",
    "id": "3eLlc1P1SNTW"
   },
   "source": [
    "https://github.com/nlpub/pymystem3"
   ]
  },
  {
   "cell_type": "markdown",
   "metadata": {
    "colab_type": "text",
    "id": "NRe8mfd7SNTQ"
   },
   "source": [
    "https://github.com/nlpub/pymystem3/blob/master/pymystem3/mystem.py"
   ]
  },
  {
   "cell_type": "markdown",
   "metadata": {
    "colab_type": "text",
    "id": "x7ozDFbrLfRD"
   },
   "source": [
    "https://tech.yandex.ru/mystem/doc/grammemes-values-docpage/"
   ]
  },
  {
   "cell_type": "markdown",
   "metadata": {
    "colab_type": "text",
    "id": "Q2hR-p8_RKKc"
   },
   "source": [
    "https://pymorphy2.readthedocs.io/en/latest/\n",
    "https://pymorphy2.readthedocs.io/en/latest/user/grammemes.html\n",
    "\n"
   ]
  },
  {
   "cell_type": "markdown",
   "metadata": {
    "colab_type": "text",
    "id": "a4Ee2sAKmY44"
   },
   "source": [
    "Установка необходимых библиотек."
   ]
  },
  {
   "cell_type": "code",
   "execution_count": 1,
   "metadata": {
    "colab": {
     "autoexec": {
      "startup": false,
      "wait_interval": 0
     },
     "base_uri": "https://localhost:8080/",
     "height": 319
    },
    "colab_type": "code",
    "executionInfo": {
     "elapsed": 7098,
     "status": "ok",
     "timestamp": 1526071672522,
     "user": {
      "displayName": "Papa JoStick",
      "photoUrl": "//lh6.googleusercontent.com/-Jf5kd07EGUs/AAAAAAAAAAI/AAAAAAAAAAQ/rF-3rTLwsMc/s50-c-k-no/photo.jpg",
      "userId": "103387557085827987438"
     },
     "user_tz": -180
    },
    "id": "jTkvIB1S_Zhi",
    "outputId": "4ae5bfdb-47f6-4961-b1ee-c195a34e0d9c"
   },
   "outputs": [
    {
     "name": "stdout",
     "output_type": "stream",
     "text": [
      "Collecting pymorphy2\n",
      "\u001b[?25l  Downloading https://files.pythonhosted.org/packages/a3/33/fff9675c68b5f6c63ec8c6e6ff57827dda28a1fa5b2c2d727dffff92dd47/pymorphy2-0.8-py2.py3-none-any.whl (46kB)\n",
      "\u001b[K    100% |████████████████████████████████| 51kB 2.0MB/s \n",
      "\u001b[?25hCollecting pymorphy2-dicts<3.0,>=2.4 (from pymorphy2)\n",
      "\u001b[?25l  Downloading https://files.pythonhosted.org/packages/02/51/2465fd4f72328ab50877b54777764d928da8cb15b74e2680fc1bd8cb3173/pymorphy2_dicts-2.4.393442.3710985-py2.py3-none-any.whl (7.1MB)\n",
      "\u001b[K    100% |████████████████████████████████| 7.1MB 3.9MB/s \n",
      "\u001b[?25hCollecting docopt>=0.6 (from pymorphy2)\n",
      "  Downloading https://files.pythonhosted.org/packages/a2/55/8f8cab2afd404cf578136ef2cc5dfb50baa1761b68c9da1fb1e4eed343c9/docopt-0.6.2.tar.gz\n",
      "Collecting dawg-python>=0.7 (from pymorphy2)\n",
      "  Downloading https://files.pythonhosted.org/packages/6a/84/ff1ce2071d4c650ec85745766c0047ccc3b5036f1d03559fd46bb38b5eeb/DAWG_Python-0.7.2-py2.py3-none-any.whl\n",
      "Building wheels for collected packages: docopt\n",
      "  Running setup.py bdist_wheel for docopt ... \u001b[?25l-\b \bdone\n",
      "\u001b[?25h  Stored in directory: /content/.cache/pip/wheels/9b/04/dd/7daf4150b6d9b12949298737de9431a324d4b797ffd63f526e\n",
      "Successfully built docopt\n",
      "Installing collected packages: pymorphy2-dicts, docopt, dawg-python, pymorphy2\n",
      "Successfully installed dawg-python-0.7.2 docopt-0.6.2 pymorphy2-0.8 pymorphy2-dicts-2.4.393442.3710985\n"
     ]
    }
   ],
   "source": [
    "!pip install pymorphy2"
   ]
  },
  {
   "cell_type": "code",
   "execution_count": 2,
   "metadata": {
    "colab": {
     "autoexec": {
      "startup": false,
      "wait_interval": 0
     },
     "base_uri": "https://localhost:8080/",
     "height": 262
    },
    "colab_type": "code",
    "executionInfo": {
     "elapsed": 4390,
     "status": "ok",
     "timestamp": 1526071677564,
     "user": {
      "displayName": "Papa JoStick",
      "photoUrl": "//lh6.googleusercontent.com/-Jf5kd07EGUs/AAAAAAAAAAI/AAAAAAAAAAQ/rF-3rTLwsMc/s50-c-k-no/photo.jpg",
      "userId": "103387557085827987438"
     },
     "user_tz": -180
    },
    "id": "lP1mPwf1EFYy",
    "outputId": "f217b63c-4f9f-4660-bfc7-96e30c1ef12d"
   },
   "outputs": [
    {
     "name": "stdout",
     "output_type": "stream",
     "text": [
      "Collecting pymystem3\n",
      "  Downloading https://files.pythonhosted.org/packages/89/df/830317a0fc4baefd18bdb8294cb2e3eb1729afeeb983c90413019bbcc797/pymystem3-0.1.9.tar.gz\n",
      "Requirement already satisfied: requests in /usr/local/lib/python3.6/dist-packages (from pymystem3) (2.18.4)\n",
      "Requirement already satisfied: idna<2.7,>=2.5 in /usr/local/lib/python3.6/dist-packages (from requests->pymystem3) (2.6)\n",
      "Requirement already satisfied: chardet<3.1.0,>=3.0.2 in /usr/local/lib/python3.6/dist-packages (from requests->pymystem3) (3.0.4)\n",
      "Requirement already satisfied: certifi>=2017.4.17 in /usr/local/lib/python3.6/dist-packages (from requests->pymystem3) (2018.4.16)\n",
      "Requirement already satisfied: urllib3<1.23,>=1.21.1 in /usr/local/lib/python3.6/dist-packages (from requests->pymystem3) (1.22)\n",
      "Building wheels for collected packages: pymystem3\n",
      "  Running setup.py bdist_wheel for pymystem3 ... \u001b[?25l-\b \b\\\b \b|\b \b/\b \b-\b \bdone\n",
      "\u001b[?25h  Stored in directory: /content/.cache/pip/wheels/55/d3/d3/324a9502a055d4c651f7e61113fe60ad2df54ab7244a6dae6e\n",
      "Successfully built pymystem3\n",
      "Installing collected packages: pymystem3\n",
      "Successfully installed pymystem3-0.1.9\n"
     ]
    }
   ],
   "source": [
    "!pip install pymystem3"
   ]
  },
  {
   "cell_type": "markdown",
   "metadata": {
    "colab_type": "text",
    "id": "WlttxuzpmekU"
   },
   "source": [
    "Скачиваем слова из корпуса русского языка."
   ]
  },
  {
   "cell_type": "code",
   "execution_count": 3,
   "metadata": {
    "colab": {
     "autoexec": {
      "startup": false,
      "wait_interval": 0
     },
     "base_uri": "https://localhost:8080/",
     "height": 225
    },
    "colab_type": "code",
    "executionInfo": {
     "elapsed": 12068,
     "status": "ok",
     "timestamp": 1526071690580,
     "user": {
      "displayName": "Papa JoStick",
      "photoUrl": "//lh6.googleusercontent.com/-Jf5kd07EGUs/AAAAAAAAAAI/AAAAAAAAAAQ/rF-3rTLwsMc/s50-c-k-no/photo.jpg",
      "userId": "103387557085827987438"
     },
     "user_tz": -180
    },
    "id": "Ie8EqHsiBrBQ",
    "outputId": "8f670c17-37b9-49f2-dc2a-9edc0316780e"
   },
   "outputs": [
    {
     "name": "stdout",
     "output_type": "stream",
     "text": [
      "--2018-05-11 20:47:59--  http://ruscorpora.ru/ngrams/1grams-3.zip\n",
      "Resolving ruscorpora.ru (ruscorpora.ru)... 94.127.67.66\n",
      "Connecting to ruscorpora.ru (ruscorpora.ru)|94.127.67.66|:80... connected.\n",
      "HTTP request sent, awaiting response... 200 OK\n",
      "Length: 5663668 (5.4M) [application/zip]\n",
      "Saving to: ‘1grams-3.zip’\n",
      "\n",
      "1grams-3.zip        100%[===================>]   5.40M   528KB/s    in 9.6s    \n",
      "\n",
      "2018-05-11 20:48:10 (573 KB/s) - ‘1grams-3.zip’ saved [5663668/5663668]\n",
      "\n"
     ]
    }
   ],
   "source": [
    "!wget http://ruscorpora.ru/ngrams/1grams-3.zip"
   ]
  },
  {
   "cell_type": "code",
   "execution_count": 4,
   "metadata": {
    "colab": {
     "autoexec": {
      "startup": false,
      "wait_interval": 0
     },
     "base_uri": "https://localhost:8080/",
     "height": 55
    },
    "colab_type": "code",
    "executionInfo": {
     "elapsed": 1934,
     "status": "ok",
     "timestamp": 1526071693674,
     "user": {
      "displayName": "Papa JoStick",
      "photoUrl": "//lh6.googleusercontent.com/-Jf5kd07EGUs/AAAAAAAAAAI/AAAAAAAAAAQ/rF-3rTLwsMc/s50-c-k-no/photo.jpg",
      "userId": "103387557085827987438"
     },
     "user_tz": -180
    },
    "id": "BCUvAjWTDDGj",
    "outputId": "5182b1e2-08da-4f42-d75c-3ee166cc2123"
   },
   "outputs": [
    {
     "name": "stdout",
     "output_type": "stream",
     "text": [
      "Archive:  1grams-3.zip\n",
      "  inflating: 1grams-3.txt            \n"
     ]
    }
   ],
   "source": [
    "!unzip 1grams-3.zip"
   ]
  },
  {
   "cell_type": "code",
   "execution_count": 0,
   "metadata": {
    "colab": {
     "autoexec": {
      "startup": false,
      "wait_interval": 0
     }
    },
    "colab_type": "code",
    "id": "aEU2K1tBDJcN"
   },
   "outputs": [],
   "source": [
    "with open('1grams-3.txt', 'r') as f:\n",
    "  content = f.readlines()"
   ]
  },
  {
   "cell_type": "code",
   "execution_count": 6,
   "metadata": {
    "colab": {
     "autoexec": {
      "startup": false,
      "wait_interval": 0
     },
     "base_uri": "https://localhost:8080/",
     "height": 206
    },
    "colab_type": "code",
    "executionInfo": {
     "elapsed": 638,
     "status": "ok",
     "timestamp": 1526071696730,
     "user": {
      "displayName": "Papa JoStick",
      "photoUrl": "//lh6.googleusercontent.com/-Jf5kd07EGUs/AAAAAAAAAAI/AAAAAAAAAAQ/rF-3rTLwsMc/s50-c-k-no/photo.jpg",
      "userId": "103387557085827987438"
     },
     "user_tz": -180
    },
    "id": "b2uDn38UDR0-",
    "outputId": "e66624ba-dff8-4488-9ec3-4c5a9690a4f0"
   },
   "outputs": [
    {
     "data": {
      "text/plain": [
       "['6829968\\tи\\n',\n",
       " '5190215\\tв\\n',\n",
       " '3164900\\tне\\n',\n",
       " '2729210\\tна\\n',\n",
       " '2064408\\tс\\n',\n",
       " '2064178\\tчто\\n',\n",
       " '1146383\\tкак\\n',\n",
       " '1092177\\tя\\n',\n",
       " '1046292\\tк\\n',\n",
       " '1040711\\tон\\n']"
      ]
     },
     "execution_count": 6,
     "metadata": {
      "tags": []
     },
     "output_type": "execute_result"
    }
   ],
   "source": [
    "content[0:10]"
   ]
  },
  {
   "cell_type": "code",
   "execution_count": 7,
   "metadata": {
    "colab": {
     "autoexec": {
      "startup": false,
      "wait_interval": 0
     },
     "base_uri": "https://localhost:8080/",
     "height": 36
    },
    "colab_type": "code",
    "executionInfo": {
     "elapsed": 624,
     "status": "ok",
     "timestamp": 1526071699698,
     "user": {
      "displayName": "Papa JoStick",
      "photoUrl": "//lh6.googleusercontent.com/-Jf5kd07EGUs/AAAAAAAAAAI/AAAAAAAAAAQ/rF-3rTLwsMc/s50-c-k-no/photo.jpg",
      "userId": "103387557085827987438"
     },
     "user_tz": -180
    },
    "id": "We17WcjPDfzW",
    "outputId": "dc766f2d-8303-4471-c01e-6ea96756dc99"
   },
   "outputs": [
    {
     "data": {
      "text/plain": [
       "'и'"
      ]
     },
     "execution_count": 7,
     "metadata": {
      "tags": []
     },
     "output_type": "execute_result"
    }
   ],
   "source": [
    "content[0].split('\\t')[-1].strip()"
   ]
  },
  {
   "cell_type": "code",
   "execution_count": 0,
   "metadata": {
    "colab": {
     "autoexec": {
      "startup": false,
      "wait_interval": 0
     }
    },
    "colab_type": "code",
    "id": "jHI6R4XsDbpE"
   },
   "outputs": [],
   "source": [
    "words = [line.split('\\t')[-1].strip() for line in content]"
   ]
  },
  {
   "cell_type": "code",
   "execution_count": 9,
   "metadata": {
    "colab": {
     "autoexec": {
      "startup": false,
      "wait_interval": 0
     },
     "base_uri": "https://localhost:8080/",
     "height": 36
    },
    "colab_type": "code",
    "executionInfo": {
     "elapsed": 650,
     "status": "ok",
     "timestamp": 1526071703894,
     "user": {
      "displayName": "Papa JoStick",
      "photoUrl": "//lh6.googleusercontent.com/-Jf5kd07EGUs/AAAAAAAAAAI/AAAAAAAAAAQ/rF-3rTLwsMc/s50-c-k-no/photo.jpg",
      "userId": "103387557085827987438"
     },
     "user_tz": -180
    },
    "id": "xjpIjOTZDphi",
    "outputId": "b4b22e6f-fb37-4cd1-d309-a3a77314ff35"
   },
   "outputs": [
    {
     "data": {
      "text/plain": [
       "1054210"
      ]
     },
     "execution_count": 9,
     "metadata": {
      "tags": []
     },
     "output_type": "execute_result"
    }
   ],
   "source": [
    "len(words)"
   ]
  },
  {
   "cell_type": "code",
   "execution_count": 10,
   "metadata": {
    "colab": {
     "autoexec": {
      "startup": false,
      "wait_interval": 0
     },
     "base_uri": "https://localhost:8080/",
     "height": 36
    },
    "colab_type": "code",
    "executionInfo": {
     "elapsed": 956,
     "status": "ok",
     "timestamp": 1526071706070,
     "user": {
      "displayName": "Papa JoStick",
      "photoUrl": "//lh6.googleusercontent.com/-Jf5kd07EGUs/AAAAAAAAAAI/AAAAAAAAAAQ/rF-3rTLwsMc/s50-c-k-no/photo.jpg",
      "userId": "103387557085827987438"
     },
     "user_tz": -180
    },
    "id": "yE4CxJ9TDrb2",
    "outputId": "352d5188-ad36-459f-8437-4058b698fc68"
   },
   "outputs": [
    {
     "data": {
      "text/plain": [
       "1054210"
      ]
     },
     "execution_count": 10,
     "metadata": {
      "tags": []
     },
     "output_type": "execute_result"
    }
   ],
   "source": [
    "len(set(words))"
   ]
  },
  {
   "cell_type": "markdown",
   "metadata": {
    "colab_type": "text",
    "id": "17HNabaTFftf"
   },
   "source": [
    "# Программа"
   ]
  },
  {
   "cell_type": "markdown",
   "metadata": {
    "colab_type": "text",
    "id": "bjjmuZcWDIpw"
   },
   "source": [
    "Импортируем библиотеки."
   ]
  },
  {
   "cell_type": "code",
   "execution_count": 0,
   "metadata": {
    "colab": {
     "autoexec": {
      "startup": false,
      "wait_interval": 0
     }
    },
    "colab_type": "code",
    "id": "JDGtODx9ENmD"
   },
   "outputs": [],
   "source": [
    "from pymystem3 import Mystem\n",
    "import pymorphy2\n",
    "from pymorphy2 import MorphAnalyzer"
   ]
  },
  {
   "cell_type": "markdown",
   "metadata": {
    "colab_type": "text",
    "id": "sIVXJwEwmqFE"
   },
   "source": [
    "Создаем экземпляры морфологических парсеров."
   ]
  },
  {
   "cell_type": "code",
   "execution_count": 12,
   "metadata": {
    "colab": {
     "autoexec": {
      "startup": false,
      "wait_interval": 0
     },
     "base_uri": "https://localhost:8080/",
     "height": 36
    },
    "colab_type": "code",
    "executionInfo": {
     "elapsed": 3562,
     "status": "ok",
     "timestamp": 1526071712880,
     "user": {
      "displayName": "Papa JoStick",
      "photoUrl": "//lh6.googleusercontent.com/-Jf5kd07EGUs/AAAAAAAAAAI/AAAAAAAAAAQ/rF-3rTLwsMc/s50-c-k-no/photo.jpg",
      "userId": "103387557085827987438"
     },
     "user_tz": -180
    },
    "id": "05qMBgjnFOw0",
    "outputId": "cbbad922-bf2f-412c-a378-af17f266670e"
   },
   "outputs": [
    {
     "name": "stderr",
     "output_type": "stream",
     "text": [
      "Installing mystem to /content/.local/bin/mystem from http://download.cdn.yandex.net/mystem/mystem-3.0-linux3.1-64bit.tar.gz\n"
     ]
    }
   ],
   "source": [
    "morph = MorphAnalyzer()\n",
    "m = Mystem()"
   ]
  },
  {
   "cell_type": "markdown",
   "metadata": {
    "colab_type": "text",
    "id": "pRHmjQUsm3SV"
   },
   "source": [
    "Пример функций Mystem"
   ]
  },
  {
   "cell_type": "code",
   "execution_count": 0,
   "metadata": {
    "colab": {
     "autoexec": {
      "startup": false,
      "wait_interval": 0
     }
    },
    "colab_type": "code",
    "id": "q13e5lo3m3b-"
   },
   "outputs": [],
   "source": [
    "text = 'Мама мыла раму'"
   ]
  },
  {
   "cell_type": "code",
   "execution_count": 14,
   "metadata": {
    "colab": {
     "autoexec": {
      "startup": false,
      "wait_interval": 0
     },
     "base_uri": "https://localhost:8080/",
     "height": 56
    },
    "colab_type": "code",
    "executionInfo": {
     "elapsed": 1772,
     "status": "ok",
     "timestamp": 1526071716318,
     "user": {
      "displayName": "Papa JoStick",
      "photoUrl": "//lh6.googleusercontent.com/-Jf5kd07EGUs/AAAAAAAAAAI/AAAAAAAAAAQ/rF-3rTLwsMc/s50-c-k-no/photo.jpg",
      "userId": "103387557085827987438"
     },
     "user_tz": -180
    },
    "id": "wsnYTugNIGU6",
    "outputId": "811af6b3-d7f3-4770-fc33-3971ccf56cfd"
   },
   "outputs": [
    {
     "name": "stdout",
     "output_type": "stream",
     "text": [
      "[{'analysis': [{'lex': 'мама', 'gr': 'S,жен,од=им,ед'}], 'text': 'Мама'}, {'text': ' '}, {'analysis': [{'lex': 'мыть', 'gr': 'V,несов,пе=прош,ед,изъяв,жен'}], 'text': 'мыла'}, {'text': ' '}, {'analysis': [{'lex': 'рама', 'gr': 'S,жен,неод=вин,ед'}], 'text': 'раму'}, {'text': '\\n'}]\n"
     ]
    }
   ],
   "source": [
    "ana = m.analyze(text)\n",
    "print(ana)"
   ]
  },
  {
   "cell_type": "code",
   "execution_count": 15,
   "metadata": {
    "colab": {
     "autoexec": {
      "startup": false,
      "wait_interval": 0
     },
     "base_uri": "https://localhost:8080/",
     "height": 36
    },
    "colab_type": "code",
    "executionInfo": {
     "elapsed": 648,
     "status": "ok",
     "timestamp": 1526071719446,
     "user": {
      "displayName": "Papa JoStick",
      "photoUrl": "//lh6.googleusercontent.com/-Jf5kd07EGUs/AAAAAAAAAAI/AAAAAAAAAAQ/rF-3rTLwsMc/s50-c-k-no/photo.jpg",
      "userId": "103387557085827987438"
     },
     "user_tz": -180
    },
    "id": "fWBHjOqZIxH9",
    "outputId": "2efad6d0-6644-4a57-ea41-4519cd00c3c4"
   },
   "outputs": [
    {
     "name": "stdout",
     "output_type": "stream",
     "text": [
      "['мама', ' ', 'мыть', ' ', 'рама', '\\n']\n"
     ]
    }
   ],
   "source": [
    "lemmas = m.lemmatize(text)\n",
    "print(lemmas)"
   ]
  },
  {
   "cell_type": "markdown",
   "metadata": {
    "colab_type": "text",
    "id": "Y192eDREm9rs"
   },
   "source": [
    "Пример функций PyMorphy"
   ]
  },
  {
   "cell_type": "code",
   "execution_count": 16,
   "metadata": {
    "colab": {
     "autoexec": {
      "startup": false,
      "wait_interval": 0
     },
     "base_uri": "https://localhost:8080/",
     "height": 94
    },
    "colab_type": "code",
    "executionInfo": {
     "elapsed": 648,
     "status": "ok",
     "timestamp": 1526071721290,
     "user": {
      "displayName": "Papa JoStick",
      "photoUrl": "//lh6.googleusercontent.com/-Jf5kd07EGUs/AAAAAAAAAAI/AAAAAAAAAAQ/rF-3rTLwsMc/s50-c-k-no/photo.jpg",
      "userId": "103387557085827987438"
     },
     "user_tz": -180
    },
    "id": "X1zPNwtKHIiO",
    "outputId": "81278c6f-574f-4206-de3d-658a18f000e5"
   },
   "outputs": [
    {
     "name": "stdout",
     "output_type": "stream",
     "text": [
      "[Parse(word='мама', tag=OpencorporaTag('NOUN,anim,femn sing,nomn'), normal_form='мама', score=1.0, methods_stack=((<DictionaryAnalyzer>, 'мама', 1907, 0),))]\n",
      "[Parse(word='мыла', tag=OpencorporaTag('NOUN,inan,neut sing,gent'), normal_form='мыло', score=0.333333, methods_stack=((<DictionaryAnalyzer>, 'мыла', 54, 1),)), Parse(word='мыла', tag=OpencorporaTag('VERB,impf,tran femn,sing,past,indc'), normal_form='мыть', score=0.333333, methods_stack=((<DictionaryAnalyzer>, 'мыла', 1813, 8),)), Parse(word='мыла', tag=OpencorporaTag('NOUN,inan,neut plur,nomn'), normal_form='мыло', score=0.166666, methods_stack=((<DictionaryAnalyzer>, 'мыла', 54, 6),)), Parse(word='мыла', tag=OpencorporaTag('NOUN,inan,neut plur,accs'), normal_form='мыло', score=0.166666, methods_stack=((<DictionaryAnalyzer>, 'мыла', 54, 9),))]\n",
      "[Parse(word='раму', tag=OpencorporaTag('NOUN,inan,masc,Geox sing,datv'), normal_form='рам', score=0.5, methods_stack=((<DictionaryAnalyzer>, 'раму', 32, 2),)), Parse(word='раму', tag=OpencorporaTag('NOUN,inan,femn sing,accs'), normal_form='рама', score=0.5, methods_stack=((<DictionaryAnalyzer>, 'раму', 55, 3),))]\n"
     ]
    }
   ],
   "source": [
    "tokens = text.split()\n",
    "for token in tokens:\n",
    "  print(morph.parse(token))"
   ]
  },
  {
   "cell_type": "code",
   "execution_count": 17,
   "metadata": {
    "colab": {
     "autoexec": {
      "startup": false,
      "wait_interval": 0
     },
     "base_uri": "https://localhost:8080/",
     "height": 150
    },
    "colab_type": "code",
    "executionInfo": {
     "elapsed": 618,
     "status": "ok",
     "timestamp": 1526071722818,
     "user": {
      "displayName": "Papa JoStick",
      "photoUrl": "//lh6.googleusercontent.com/-Jf5kd07EGUs/AAAAAAAAAAI/AAAAAAAAAAQ/rF-3rTLwsMc/s50-c-k-no/photo.jpg",
      "userId": "103387557085827987438"
     },
     "user_tz": -180
    },
    "id": "URMiyZ6RHvAM",
    "outputId": "b0d8a9f0-dd86-4cee-b276-33b15a21774a"
   },
   "outputs": [
    {
     "name": "stdout",
     "output_type": "stream",
     "text": [
      "[Parse(word='мама', tag=OpencorporaTag('NOUN,anim,femn sing,nomn'), normal_form='мама', score=1.0, methods_stack=((<DictionaryAnalyzer>, 'мама', 1907, 0),))]\n",
      "[Parse(word=' ', tag=OpencorporaTag('UNKN'), normal_form=' ', score=1.0, methods_stack=((<UnknAnalyzer>, ' '),))]\n",
      "[Parse(word='мыть', tag=OpencorporaTag('INFN,impf,tran'), normal_form='мыть', score=1.0, methods_stack=((<DictionaryAnalyzer>, 'мыть', 1813, 0),))]\n",
      "[Parse(word=' ', tag=OpencorporaTag('UNKN'), normal_form=' ', score=1.0, methods_stack=((<UnknAnalyzer>, ' '),))]\n",
      "[Parse(word='рама', tag=OpencorporaTag('NOUN,inan,masc,Geox sing,gent'), normal_form='рам', score=0.5, methods_stack=((<DictionaryAnalyzer>, 'рама', 32, 1),)), Parse(word='рама', tag=OpencorporaTag('NOUN,inan,femn sing,nomn'), normal_form='рама', score=0.5, methods_stack=((<DictionaryAnalyzer>, 'рама', 55, 0),))]\n",
      "[Parse(word='\\n', tag=OpencorporaTag('ROMN'), normal_form='\\n', score=1.0, methods_stack=((<RomanNumberAnalyzer>, '\\n'),))]\n"
     ]
    }
   ],
   "source": [
    "for lemma in lemmas:\n",
    "  print(morph.parse(lemma))"
   ]
  },
  {
   "cell_type": "markdown",
   "metadata": {
    "colab_type": "text",
    "id": "ZiKgLxi5GlDq"
   },
   "source": [
    "Порядок действий:\n",
    "1. Распарсить входное предложение - получить части речи и остальные грамматические характеристики. (с помощью pymorphy)\n",
    "2. Выбрать случайную лемму той же части речи для каждого слова.\n",
    "3. Применить к каждой лемме inflect с входными грамматическими характеристиками."
   ]
  },
  {
   "cell_type": "markdown",
   "metadata": {
    "colab_type": "text",
    "id": "Y6Wn9aHUnG9F"
   },
   "source": [
    "Получаем теги частеречной разметки Mystem для каждого слова."
   ]
  },
  {
   "cell_type": "code",
   "execution_count": 18,
   "metadata": {
    "colab": {
     "autoexec": {
      "startup": false,
      "wait_interval": 0
     },
     "base_uri": "https://localhost:8080/",
     "height": 36
    },
    "colab_type": "code",
    "executionInfo": {
     "elapsed": 618,
     "status": "ok",
     "timestamp": 1526071725692,
     "user": {
      "displayName": "Papa JoStick",
      "photoUrl": "//lh6.googleusercontent.com/-Jf5kd07EGUs/AAAAAAAAAAI/AAAAAAAAAAQ/rF-3rTLwsMc/s50-c-k-no/photo.jpg",
      "userId": "103387557085827987438"
     },
     "user_tz": -180
    },
    "id": "wzetbQRyKGRp",
    "outputId": "472dac47-173a-40d2-8791-0ab9bd1f40ea"
   },
   "outputs": [
    {
     "name": "stdout",
     "output_type": "stream",
     "text": [
      "['S', 'V', 'S']\n"
     ]
    }
   ],
   "source": [
    "pos_tags = []\n",
    "for an in ana:\n",
    "  if 'analysis' in an.keys():\n",
    "    pos_tags.append(an['analysis'][0]['gr'].split(',')[0])\n",
    "print(pos_tags)"
   ]
  },
  {
   "cell_type": "markdown",
   "metadata": {
    "colab_type": "text",
    "id": "Nrh-3TuVnOwj"
   },
   "source": [
    "Нам нужно уметь выбирать новое случайное слово заданной части речи. Для этого необходимо соответствие между словами корпуса и частеречными тегами.\n",
    "Создаем словарь, где ключами будут части речи, а значениями - принадлежещие им слова."
   ]
  },
  {
   "cell_type": "code",
   "execution_count": 20,
   "metadata": {
    "colab": {
     "autoexec": {
      "startup": false,
      "wait_interval": 0
     },
     "base_uri": "https://localhost:8080/",
     "height": 17
    },
    "colab_type": "code",
    "executionInfo": {
     "elapsed": 6446,
     "status": "ok",
     "timestamp": 1526071746748,
     "user": {
      "displayName": "Papa JoStick",
      "photoUrl": "//lh6.googleusercontent.com/-Jf5kd07EGUs/AAAAAAAAAAI/AAAAAAAAAAQ/rF-3rTLwsMc/s50-c-k-no/photo.jpg",
      "userId": "103387557085827987438"
     },
     "user_tz": -180
    },
    "id": "VU7r_rljLlaR",
    "outputId": "82d1e73a-4dbf-4798-a8de-3704e964f684"
   },
   "outputs": [
    {
     "name": "stdout",
     "output_type": "stream",
     "text": []
    }
   ],
   "source": [
    "word_pos_dict = {}\n",
    "num_words = 10000\n",
    "for i, word in enumerate(words[:num_words]):\n",
    "  print(i, end = '\\r')\n",
    "  word = m.lemmatize(word)[0]\n",
    "  ana = m.analyze(word)\n",
    "  if 'analysis' in ana[0].keys():\n",
    "    if len(ana[0]['analysis']) > 0:\n",
    "      pos_tag = ana[0]['analysis'][0]['gr'].split(',')[0]\n",
    "      if '=' in pos_tag:\n",
    "        pos_tag = pos_tag.split('=')[0]\n",
    "      if pos_tag in word_pos_dict.keys():\n",
    "        word_pos_dict[pos_tag] = word_pos_dict[pos_tag] + [word]\n",
    "      else:\n",
    "        word_pos_dict[pos_tag] = [word]"
   ]
  },
  {
   "cell_type": "code",
   "execution_count": 21,
   "metadata": {
    "colab": {
     "autoexec": {
      "startup": false,
      "wait_interval": 0
     },
     "base_uri": "https://localhost:8080/",
     "height": 36
    },
    "colab_type": "code",
    "executionInfo": {
     "elapsed": 622,
     "status": "ok",
     "timestamp": 1526071749622,
     "user": {
      "displayName": "Papa JoStick",
      "photoUrl": "//lh6.googleusercontent.com/-Jf5kd07EGUs/AAAAAAAAAAI/AAAAAAAAAAQ/rF-3rTLwsMc/s50-c-k-no/photo.jpg",
      "userId": "103387557085827987438"
     },
     "user_tz": -180
    },
    "id": "9sDoHfEJwTqm",
    "outputId": "bc7a32e1-164f-4bb9-8701-0ba54db28d14"
   },
   "outputs": [
    {
     "name": "stdout",
     "output_type": "stream",
     "text": [
      "Количество слов: 9813\n"
     ]
    }
   ],
   "source": [
    "print('Количество слов:', sum([len(x)  for x in word_pos_dict.values()]))"
   ]
  },
  {
   "cell_type": "code",
   "execution_count": 22,
   "metadata": {
    "colab": {
     "autoexec": {
      "startup": false,
      "wait_interval": 0
     },
     "base_uri": "https://localhost:8080/",
     "height": 36
    },
    "colab_type": "code",
    "executionInfo": {
     "elapsed": 618,
     "status": "ok",
     "timestamp": 1526071752230,
     "user": {
      "displayName": "Papa JoStick",
      "photoUrl": "//lh6.googleusercontent.com/-Jf5kd07EGUs/AAAAAAAAAAI/AAAAAAAAAAQ/rF-3rTLwsMc/s50-c-k-no/photo.jpg",
      "userId": "103387557085827987438"
     },
     "user_tz": -180
    },
    "id": "hOPFmuzaN9Eh",
    "outputId": "eacea90b-ed57-42cd-9bef-89604aa382c0"
   },
   "outputs": [
    {
     "data": {
      "text/plain": [
       "dict_keys(['CONJ', 'S', 'PART', 'PR', 'SPRO', 'ADVPRO', 'INTJ', 'V', 'ADV', 'APRO', 'NUM', 'A', 'ANUM'])"
      ]
     },
     "execution_count": 22,
     "metadata": {
      "tags": []
     },
     "output_type": "execute_result"
    }
   ],
   "source": [
    "word_pos_dict.keys()"
   ]
  },
  {
   "cell_type": "markdown",
   "metadata": {
    "colab_type": "text",
    "id": "JUCdt33unkdb"
   },
   "source": [
    "Фильтруем по длине, чтобы исключить однобуквенные слова, оставшиеся после автоматической обработки инициалов, аббревиатур и т.п."
   ]
  },
  {
   "cell_type": "code",
   "execution_count": 0,
   "metadata": {
    "colab": {
     "autoexec": {
      "startup": false,
      "wait_interval": 0
     }
    },
    "colab_type": "code",
    "id": "npS_Mv4TUR3t"
   },
   "outputs": [],
   "source": [
    "candidates_pos = {}\n",
    "for key, val in word_pos_dict.items():\n",
    "  if key != 'PART' and key != 'PR' and key != 'SPRO':\n",
    "    candidates_pos[key] = [x for x in set(val) if len(x) > 1]\n",
    "  else:\n",
    "    candidates_pos[key] = set(val)"
   ]
  },
  {
   "cell_type": "code",
   "execution_count": 24,
   "metadata": {
    "cellView": "code",
    "colab": {
     "autoexec": {
      "startup": false,
      "wait_interval": 0
     },
     "base_uri": "https://localhost:8080/",
     "height": 753
    },
    "colab_type": "code",
    "executionInfo": {
     "elapsed": 1906,
     "status": "ok",
     "timestamp": 1526071757644,
     "user": {
      "displayName": "Papa JoStick",
      "photoUrl": "//lh6.googleusercontent.com/-Jf5kd07EGUs/AAAAAAAAAAI/AAAAAAAAAAQ/rF-3rTLwsMc/s50-c-k-no/photo.jpg",
      "userId": "103387557085827987438"
     },
     "user_tz": -180
    },
    "id": "8RPD0iVg0x-V",
    "outputId": "d75ea78f-9a0b-426d-b3bd-0dd8bba37590"
   },
   "outputs": [
    {
     "name": "stdout",
     "output_type": "stream",
     "text": [
      "CONJ\n",
      "изменяемые: {''}\n",
      "неизменяемые: {'вводн', 'CONJ'}\n",
      "S\n",
      "изменяемые: {'', 'пр', 'род', 'мн', 'вин', 'од', 'муж', 'твор', 'ед', 'им'}\n",
      "неизменяемые: {'фам', 'отч', 'мж', 'reserved', 'мн', 'имя', 'устар', 'неод', 'од', 'сред', 'S', 'муж', 'им', 'гео', 'разг', 'ед', 'сокр', 'жен'}\n",
      "PART\n",
      "изменяемые: {''}\n",
      "неизменяемые: {'вводн', 'PART'}\n",
      "PR\n",
      "изменяемые: {''}\n",
      "неизменяемые: {'PR'}\n",
      "SPRO\n",
      "изменяемые: {'', 'ед', 'вин', 'им'}\n",
      "неизменяемые: {'3-л', '2-л', 'SPRO', 'мн', 'неод', 'од', 'сред', '1-л', 'муж', 'им', 'ед', 'жен'}\n",
      "ADVPRO\n",
      "изменяемые: {''}\n",
      "неизменяемые: {'вводн', 'ADVPRO'}\n",
      "INTJ\n",
      "изменяемые: {''}\n",
      "неизменяемые: {'INTJ'}\n",
      "V\n",
      "изменяемые: {'нп', '3-л', 'изъяв', 'несов', 'прош', 'вин', 'страд', 'прич', 'неод', 'сов', 'полн', 'муж', 'инф', 'непрош', 'пе', 'ед'}\n",
      "неизменяемые: {'нп', 'несов', 'V', 'сов', 'пе'}\n",
      "ADV\n",
      "изменяемые: {'', 'срав', 'вводн'}\n",
      "неизменяемые: {'вводн', 'прдк', 'ADV'}\n",
      "APRO\n",
      "изменяемые: {'пр', 'вин', 'неод', 'од', 'полн', 'муж', 'ед', 'жен'}\n",
      "неизменяемые: {'APRO', 'кр'}\n",
      "NUM\n",
      "изменяемые: {'вин', 'неод', 'муж', 'им'}\n",
      "неизменяемые: {'NUM'}\n",
      "A\n",
      "изменяемые: {'пр', 'вин', 'неод', 'сред', 'им', 'полн', 'муж', 'ед', 'жен'}\n",
      "неизменяемые: {'притяж', 'A', 'полн', 'кр'}\n",
      "ANUM\n",
      "изменяемые: {'пр', 'вин', 'неод', 'муж', 'ед', 'жен'}\n",
      "неизменяемые: {'ANUM'}\n"
     ]
    }
   ],
   "source": [
    "m = Mystem()\n",
    "for key, val in candidates_pos.items():\n",
    "  non_changeable = []\n",
    "  changeable = []\n",
    "  for x in val:\n",
    "    an = m.analyze(x)[0]\n",
    "    non_changeable_current, changeable_current = an['analysis'][0]['gr'].split('=')\n",
    "    if '|' in changeable_current:\n",
    "      changeable_current = changeable_current.replace('(', '').replace(')', '').split(\"|\")[0]\n",
    "    non_changeable.extend(non_changeable_current.split(','))\n",
    "    changeable.extend(changeable_current.split(','))\n",
    "  print(key)\n",
    "  print('изменяемые:', set(changeable))\n",
    "  print('неизменяемые:', set(non_changeable))"
   ]
  },
  {
   "cell_type": "markdown",
   "metadata": {
    "colab_type": "text",
    "id": "1JiFtbp8Z8Mx"
   },
   "source": [
    " Разбиваем существительные также по одушевлённости (од/неод) и роду (муж/жен/cред), используя Mystem. Это нужно для выбора слов не только по частями речи, но и по другим грамматическим характеристикам.\n",
    " Отдельно выделяем имена, фамилии, отчества и географические названия."
   ]
  },
  {
   "cell_type": "code",
   "execution_count": 0,
   "metadata": {
    "colab": {
     "autoexec": {
      "startup": false,
      "wait_interval": 0
     }
    },
    "colab_type": "code",
    "id": "tdacDQMS3UXR"
   },
   "outputs": [],
   "source": [
    "named_entites = {}\n",
    "named_entities_labels = ['гео', 'имя', 'фам', 'отч']"
   ]
  },
  {
   "cell_type": "code",
   "execution_count": 0,
   "metadata": {
    "colab": {
     "autoexec": {
      "startup": false,
      "wait_interval": 0
     }
    },
    "colab_type": "code",
    "id": "F-_TMk0h73cV"
   },
   "outputs": [],
   "source": [
    "def parse_noun(word):\n",
    "    an = m.analyze(word)[0]\n",
    "    if 'analysis' in an.keys():\n",
    "      non_changeable, changeable = an['analysis'][0]['gr'].split('=')\n",
    "      tags = non_changeable.split(',')\n",
    "      gender_tag = tags[1]\n",
    "      if len(tags) > 2:\n",
    "            anim_tag = tags[2]\n",
    "      else:\n",
    "            anim_tag = '-'\n",
    "    return tags, gender_tag, anim_tag"
   ]
  },
  {
   "cell_type": "code",
   "execution_count": 27,
   "metadata": {
    "colab": {
     "autoexec": {
      "startup": false,
      "wait_interval": 0
     },
     "base_uri": "https://localhost:8080/",
     "height": 17
    },
    "colab_type": "code",
    "executionInfo": {
     "elapsed": 2366,
     "status": "ok",
     "timestamp": 1526071765804,
     "user": {
      "displayName": "Papa JoStick",
      "photoUrl": "//lh6.googleusercontent.com/-Jf5kd07EGUs/AAAAAAAAAAI/AAAAAAAAAAQ/rF-3rTLwsMc/s50-c-k-no/photo.jpg",
      "userId": "103387557085827987438"
     },
     "user_tz": -180
    },
    "id": "nTDRqqYhZ5Gh",
    "outputId": "b902c504-c747-4f2a-ad07-9eb521762eda"
   },
   "outputs": [
    {
     "name": "stdout",
     "output_type": "stream",
     "text": []
    }
   ],
   "source": [
    "m = Mystem()\n",
    "candidates_nouns_grammar = {}\n",
    "for i, word in enumerate(candidates_pos['S']):\n",
    "  is_ne = False\n",
    "  print('Progress: %d / %d' % (i, len(candidates_pos['S'])), end = '\\r')\n",
    "  tags, gender_tag, anim_tag = parse_noun(word)\n",
    "  for label in named_entities_labels:\n",
    "      if label in tags:\n",
    "        named_entites.setdefault(label,[]).append(word)\n",
    "        is_ne = True\n",
    "  if not is_ne:\n",
    "    candidates_nouns_grammar.setdefault((gender_tag, anim_tag),[]).append(word)"
   ]
  },
  {
   "cell_type": "code",
   "execution_count": 28,
   "metadata": {
    "colab": {
     "autoexec": {
      "startup": false,
      "wait_interval": 0
     },
     "base_uri": "https://localhost:8080/",
     "height": 36
    },
    "colab_type": "code",
    "executionInfo": {
     "elapsed": 628,
     "status": "ok",
     "timestamp": 1526071767850,
     "user": {
      "displayName": "Papa JoStick",
      "photoUrl": "//lh6.googleusercontent.com/-Jf5kd07EGUs/AAAAAAAAAAI/AAAAAAAAAAQ/rF-3rTLwsMc/s50-c-k-no/photo.jpg",
      "userId": "103387557085827987438"
     },
     "user_tz": -180
    },
    "id": "hSfNrtGacD7b",
    "outputId": "c16c2366-7927-43e2-e806-c204d7de26c5"
   },
   "outputs": [
    {
     "name": "stdout",
     "output_type": "stream",
     "text": [
      "['печать', 'полночь', 'постановка', 'глава', 'стоимость', 'цель', 'молекула', 'команда', 'тарелка', 'трава']\n"
     ]
    }
   ],
   "source": [
    "print(candidates_nouns_grammar[('жен', 'неод')][:10])"
   ]
  },
  {
   "cell_type": "code",
   "execution_count": 29,
   "metadata": {
    "colab": {
     "autoexec": {
      "startup": false,
      "wait_interval": 0
     },
     "base_uri": "https://localhost:8080/",
     "height": 36
    },
    "colab_type": "code",
    "executionInfo": {
     "elapsed": 614,
     "status": "ok",
     "timestamp": 1526071769878,
     "user": {
      "displayName": "Papa JoStick",
      "photoUrl": "//lh6.googleusercontent.com/-Jf5kd07EGUs/AAAAAAAAAAI/AAAAAAAAAAQ/rF-3rTLwsMc/s50-c-k-no/photo.jpg",
      "userId": "103387557085827987438"
     },
     "user_tz": -180
    },
    "id": "jsk3Z7Ri5W_W",
    "outputId": "df208c3f-344c-4b8f-81ca-8137cc1f15b3"
   },
   "outputs": [
    {
     "name": "stdout",
     "output_type": "stream",
     "text": [
      "['новое', 'заключение', 'бытие', 'достоинство', 'соединение', 'движение', 'солнце', 'наблюдение', 'море', 'письмо']\n"
     ]
    }
   ],
   "source": [
    "print(candidates_nouns_grammar[('сред', 'неод')][:10])"
   ]
  },
  {
   "cell_type": "code",
   "execution_count": 30,
   "metadata": {
    "colab": {
     "autoexec": {
      "startup": false,
      "wait_interval": 0
     },
     "base_uri": "https://localhost:8080/",
     "height": 36
    },
    "colab_type": "code",
    "executionInfo": {
     "elapsed": 822,
     "status": "ok",
     "timestamp": 1526071771520,
     "user": {
      "displayName": "Papa JoStick",
      "photoUrl": "//lh6.googleusercontent.com/-Jf5kd07EGUs/AAAAAAAAAAI/AAAAAAAAAAQ/rF-3rTLwsMc/s50-c-k-no/photo.jpg",
      "userId": "103387557085827987438"
     },
     "user_tz": -180
    },
    "id": "QlemC6Dx5W7d",
    "outputId": "733d1f36-f2eb-43ec-b3a3-61d1952d3554"
   },
   "outputs": [
    {
     "name": "stdout",
     "output_type": "stream",
     "text": [
      "['нос', 'руль', 'пистолет', 'остров', 'стол', 'год', 'нож', 'пол', 'момент', 'выпуск']\n"
     ]
    }
   ],
   "source": [
    "print(candidates_nouns_grammar[('муж', 'неод')][:10])"
   ]
  },
  {
   "cell_type": "code",
   "execution_count": 31,
   "metadata": {
    "colab": {
     "autoexec": {
      "startup": false,
      "wait_interval": 0
     },
     "base_uri": "https://localhost:8080/",
     "height": 36
    },
    "colab_type": "code",
    "executionInfo": {
     "elapsed": 652,
     "status": "ok",
     "timestamp": 1526071772966,
     "user": {
      "displayName": "Papa JoStick",
      "photoUrl": "//lh6.googleusercontent.com/-Jf5kd07EGUs/AAAAAAAAAAI/AAAAAAAAAAQ/rF-3rTLwsMc/s50-c-k-no/photo.jpg",
      "userId": "103387557085827987438"
     },
     "user_tz": -180
    },
    "id": "zwHobqHl5W20",
    "outputId": "7e65c003-af56-4740-f646-5db9d5a99fb6"
   },
   "outputs": [
    {
     "name": "stdout",
     "output_type": "stream",
     "text": [
      "['жених', 'корреспондент', 'чиновник', 'братец', 'барин', 'генерал', 'кот', 'враг', 'журналист', 'купец']\n"
     ]
    }
   ],
   "source": [
    "print(candidates_nouns_grammar[('муж', 'од')][:10])"
   ]
  },
  {
   "cell_type": "markdown",
   "metadata": {
    "colab_type": "text",
    "id": "ovTNPisqi5RP"
   },
   "source": [
    "Глаголы разбиваем аналогичным образом по виду и переходности. "
   ]
  },
  {
   "cell_type": "code",
   "execution_count": 0,
   "metadata": {
    "colab": {
     "autoexec": {
      "startup": false,
      "wait_interval": 0
     }
    },
    "colab_type": "code",
    "id": "q8uGCGLu8wsr"
   },
   "outputs": [],
   "source": [
    "def parse_verb(word):\n",
    "    an = m.analyze(word)[0]\n",
    "    if 'analysis' in an.keys():\n",
    "      tags = an['analysis'][0]['gr']\n",
    "      non_changeable, changeable = tags.split('=')\n",
    "      tags = non_changeable.split(',') + changeable.split(',')\n",
    "      perf_tag, trans_tag = '-', '-'\n",
    "      for tag in tags:\n",
    "        if tag in ['несов', 'сов']:\n",
    "            perf_tag = tag\n",
    "        if tag in ['пе', 'нп']:\n",
    "            trans_tag = tag\n",
    "    return tags, perf_tag, trans_tag"
   ]
  },
  {
   "cell_type": "code",
   "execution_count": 33,
   "metadata": {
    "colab": {
     "autoexec": {
      "startup": false,
      "wait_interval": 0
     },
     "base_uri": "https://localhost:8080/",
     "height": 17
    },
    "colab_type": "code",
    "executionInfo": {
     "elapsed": 2008,
     "status": "ok",
     "timestamp": 1526071778882,
     "user": {
      "displayName": "Papa JoStick",
      "photoUrl": "//lh6.googleusercontent.com/-Jf5kd07EGUs/AAAAAAAAAAI/AAAAAAAAAAQ/rF-3rTLwsMc/s50-c-k-no/photo.jpg",
      "userId": "103387557085827987438"
     },
     "user_tz": -180
    },
    "id": "pZI00DEZc8Ky",
    "outputId": "ba20edd3-9b5b-4b75-9a26-d23c0551a725"
   },
   "outputs": [
    {
     "name": "stdout",
     "output_type": "stream",
     "text": []
    }
   ],
   "source": [
    "m = Mystem()\n",
    "candidates_verbs_grammar = {}\n",
    "for i, word in enumerate(candidates_pos['V']):\n",
    "  print('Progress: %d / %d' % (i, len(candidates_pos['V'])), end = '\\r')\n",
    "  tags, perf_tag, trans_tag = parse_verb(word)\n",
    "  candidates_verbs_grammar.setdefault((perf_tag, trans_tag),[]).append(word)"
   ]
  },
  {
   "cell_type": "markdown",
   "metadata": {
    "colab_type": "text",
    "id": "kWFyIYvioA7J"
   },
   "source": [
    "Пример содержания получившегося словаря."
   ]
  },
  {
   "cell_type": "code",
   "execution_count": 34,
   "metadata": {
    "colab": {
     "autoexec": {
      "startup": false,
      "wait_interval": 0
     },
     "base_uri": "https://localhost:8080/",
     "height": 36
    },
    "colab_type": "code",
    "executionInfo": {
     "elapsed": 644,
     "status": "ok",
     "timestamp": 1526071783924,
     "user": {
      "displayName": "Papa JoStick",
      "photoUrl": "//lh6.googleusercontent.com/-Jf5kd07EGUs/AAAAAAAAAAI/AAAAAAAAAAQ/rF-3rTLwsMc/s50-c-k-no/photo.jpg",
      "userId": "103387557085827987438"
     },
     "user_tz": -180
    },
    "id": "LAPQbdbgeqFg",
    "outputId": "fa13da49-ea9a-4977-d6fd-8c869dd45832"
   },
   "outputs": [
    {
     "name": "stdout",
     "output_type": "stream",
     "text": [
      "['посмотреть', 'полюбить', 'подождать', 'послушать', 'поглядеть', 'посоветовать', 'взять', 'увидать', 'подготовить', 'сунуть']\n"
     ]
    }
   ],
   "source": [
    "print(candidates_verbs_grammar[('сов', 'пе')][:10])"
   ]
  },
  {
   "cell_type": "code",
   "execution_count": 35,
   "metadata": {
    "colab": {
     "autoexec": {
      "startup": false,
      "wait_interval": 0
     },
     "base_uri": "https://localhost:8080/",
     "height": 36
    },
    "colab_type": "code",
    "executionInfo": {
     "elapsed": 584,
     "status": "ok",
     "timestamp": 1526071785914,
     "user": {
      "displayName": "Papa JoStick",
      "photoUrl": "//lh6.googleusercontent.com/-Jf5kd07EGUs/AAAAAAAAAAI/AAAAAAAAAAQ/rF-3rTLwsMc/s50-c-k-no/photo.jpg",
      "userId": "103387557085827987438"
     },
     "user_tz": -180
    },
    "id": "HXAReZRkfael",
    "outputId": "c5d42b8c-f16d-4e08-8560-f400ee3e9cd6"
   },
   "outputs": [
    {
     "name": "stdout",
     "output_type": "stream",
     "text": [
      "['помолчать', 'заснуть', 'поинтересоваться', 'суметь', 'глянуть', 'крикнуть', 'прийти', 'выскочить', 'оглянуться', 'взяться']\n"
     ]
    }
   ],
   "source": [
    "print(candidates_verbs_grammar[('сов', 'нп')][:10])"
   ]
  },
  {
   "cell_type": "code",
   "execution_count": 36,
   "metadata": {
    "colab": {
     "autoexec": {
      "startup": false,
      "wait_interval": 0
     },
     "base_uri": "https://localhost:8080/",
     "height": 36
    },
    "colab_type": "code",
    "executionInfo": {
     "elapsed": 736,
     "status": "ok",
     "timestamp": 1526071787196,
     "user": {
      "displayName": "Papa JoStick",
      "photoUrl": "//lh6.googleusercontent.com/-Jf5kd07EGUs/AAAAAAAAAAI/AAAAAAAAAAQ/rF-3rTLwsMc/s50-c-k-no/photo.jpg",
      "userId": "103387557085827987438"
     },
     "user_tz": -180
    },
    "id": "oiB4lBiKfchN",
    "outputId": "1ad87fb6-4f35-47d4-f2c2-120f8fef3cf8"
   },
   "outputs": [
    {
     "name": "stdout",
     "output_type": "stream",
     "text": [
      "['напоминать', 'объяснять', 'высказывать', 'спрашивать', 'заслуживать', 'знать', 'переживать', 'заключать', 'ждать', 'говорить']\n"
     ]
    }
   ],
   "source": [
    "print(candidates_verbs_grammar[('несов', 'пе')][:10])"
   ]
  },
  {
   "cell_type": "code",
   "execution_count": 37,
   "metadata": {
    "colab": {
     "autoexec": {
      "startup": false,
      "wait_interval": 0
     },
     "base_uri": "https://localhost:8080/",
     "height": 36
    },
    "colab_type": "code",
    "executionInfo": {
     "elapsed": 606,
     "status": "ok",
     "timestamp": 1526071788248,
     "user": {
      "displayName": "Papa JoStick",
      "photoUrl": "//lh6.googleusercontent.com/-Jf5kd07EGUs/AAAAAAAAAAI/AAAAAAAAAAQ/rF-3rTLwsMc/s50-c-k-no/photo.jpg",
      "userId": "103387557085827987438"
     },
     "user_tz": -180
    },
    "id": "Mj19lQz2fdMO",
    "outputId": "f6097711-96dd-415c-f5a2-9ddf8abee4f5"
   },
   "outputs": [
    {
     "name": "stdout",
     "output_type": "stream",
     "text": [
      "['дышать', 'приходиться', 'подлежать', 'заключаться', 'проникать', 'отдыхать', 'готовиться', 'надеяться', 'решаться', 'обедать']\n"
     ]
    }
   ],
   "source": [
    "print(candidates_verbs_grammar[('несов', 'нп')][:10])"
   ]
  },
  {
   "cell_type": "markdown",
   "metadata": {
    "colab_type": "text",
    "id": "dxd96jDjoPr6"
   },
   "source": [
    "Разбиваем местоимения по роду, лицу, одушевлённости и числу (если они не указаны, ставим прочерк)."
   ]
  },
  {
   "cell_type": "code",
   "execution_count": 0,
   "metadata": {
    "colab": {
     "autoexec": {
      "startup": false,
      "wait_interval": 0
     }
    },
    "colab_type": "code",
    "id": "0C3g2H7U9uRl"
   },
   "outputs": [],
   "source": [
    "def parse_pronoun(word):\n",
    "    an = m.analyze(word)[0]\n",
    "    if 'analysis' in an.keys():\n",
    "      non_changeable, changeable = an['analysis'][0]['gr'].split('=')\n",
    "      tags = non_changeable.split(',')\n",
    "      gender_tag, person_tag, anim_tag, num_tag = '-', '-', '-', '-'\n",
    "      for tag in tags:\n",
    "        if tag in ['муж', 'жен', 'сред']:\n",
    "            gender_tag = tag\n",
    "        if '-л' in tag:\n",
    "            person_tag = tag\n",
    "        if tag in ['од', 'неод']:\n",
    "            anim_tag = tag\n",
    "        if tag in ['мн', 'ед']:\n",
    "            num_tag = tag\n",
    "    return tags, person_tag, num_tag, gender_tag, anim_tag"
   ]
  },
  {
   "cell_type": "code",
   "execution_count": 39,
   "metadata": {
    "colab": {
     "autoexec": {
      "startup": false,
      "wait_interval": 0
     },
     "base_uri": "https://localhost:8080/",
     "height": 17
    },
    "colab_type": "code",
    "executionInfo": {
     "elapsed": 606,
     "status": "ok",
     "timestamp": 1526071792230,
     "user": {
      "displayName": "Papa JoStick",
      "photoUrl": "//lh6.googleusercontent.com/-Jf5kd07EGUs/AAAAAAAAAAI/AAAAAAAAAAQ/rF-3rTLwsMc/s50-c-k-no/photo.jpg",
      "userId": "103387557085827987438"
     },
     "user_tz": -180
    },
    "id": "ulie-8mhjKu9",
    "outputId": "085aacd1-434f-4c25-d595-4b36110e22dd"
   },
   "outputs": [
    {
     "name": "stdout",
     "output_type": "stream",
     "text": [
      "Progress: 0 / 33\r",
      "Progress: 1 / 33\r",
      "Progress: 2 / 33\r",
      "Progress: 3 / 33\r",
      "Progress: 4 / 33\r",
      "Progress: 5 / 33\r",
      "Progress: 6 / 33\r",
      "Progress: 7 / 33\r",
      "Progress: 8 / 33\r",
      "Progress: 9 / 33\r",
      "Progress: 10 / 33\r",
      "Progress: 11 / 33\r",
      "Progress: 12 / 33\r",
      "Progress: 13 / 33\r",
      "Progress: 14 / 33\r",
      "Progress: 15 / 33\r",
      "Progress: 16 / 33\r",
      "Progress: 17 / 33\r",
      "Progress: 18 / 33\r",
      "Progress: 19 / 33\r",
      "Progress: 20 / 33\r",
      "Progress: 21 / 33\r",
      "Progress: 22 / 33\r",
      "Progress: 23 / 33\r",
      "Progress: 24 / 33\r",
      "Progress: 25 / 33\r",
      "Progress: 26 / 33\r",
      "Progress: 27 / 33\r",
      "Progress: 28 / 33\r",
      "Progress: 29 / 33\r",
      "Progress: 30 / 33\r",
      "Progress: 31 / 33\r",
      "Progress: 32 / 33\r"
     ]
    }
   ],
   "source": [
    "candidates_pronouns_grammar = {}\n",
    "for i, word in enumerate(candidates_pos['SPRO']):\n",
    "  print('Progress: %d / %d' % (i, len(candidates_pos['SPRO'])), end = '\\r')\n",
    "  tags, person_tag, num_tag, gender_tag, anim_tag = parse_pronoun(word)\n",
    "  candidates_pronouns_grammar.setdefault((person_tag, num_tag, gender_tag, anim_tag),[]).append(word)"
   ]
  },
  {
   "cell_type": "code",
   "execution_count": 0,
   "metadata": {
    "colab": {
     "autoexec": {
      "startup": false,
      "wait_interval": 0
     }
    },
    "colab_type": "code",
    "id": "cPQntK_lMtRe"
   },
   "outputs": [],
   "source": [
    "import pickle"
   ]
  },
  {
   "cell_type": "code",
   "execution_count": 0,
   "metadata": {
    "colab": {
     "autoexec": {
      "startup": false,
      "wait_interval": 0
     }
    },
    "colab_type": "code",
    "id": "Tc5k5aFiMwWk"
   },
   "outputs": [],
   "source": [
    "pickle.dump(candidates_pos, open('candidates_pos.p', 'wb'))\n",
    "pickle.dump(candidates_verbs_grammar, open('candidates_verbs_grammar.p', 'wb'))\n",
    "pickle.dump(candidates_nouns_grammar, open('candidates_nouns_grammar.p', 'wb'))\n",
    "pickle.dump(candidates_pronouns_grammar, open('candidates_pronouns_grammar.p', 'wb'))\n",
    "pickle.dump(named_entites, open('named_entites.p', 'wb'))"
   ]
  },
  {
   "cell_type": "code",
   "execution_count": 0,
   "metadata": {
    "colab": {
     "autoexec": {
      "startup": false,
      "wait_interval": 0
     }
    },
    "colab_type": "code",
    "id": "pkuBXC-cM6y4"
   },
   "outputs": [],
   "source": [
    "# candidates_pos = pickle.load(open('candidates_pos.p', 'rb'))"
   ]
  },
  {
   "cell_type": "markdown",
   "metadata": {
    "colab_type": "text",
    "id": "VQyN5TiHo--X"
   },
   "source": [
    "Сейчас у нас в словаре хранятся множества слов, а не списки."
   ]
  },
  {
   "cell_type": "code",
   "execution_count": 0,
   "metadata": {
    "colab": {
     "autoexec": {
      "startup": false,
      "wait_interval": 0
     }
    },
    "colab_type": "code",
    "id": "q2KWD7ayk7A6"
   },
   "outputs": [],
   "source": [
    "candidates_pos = {k: list(v) for k, v in candidates_pos.items()}"
   ]
  },
  {
   "cell_type": "code",
   "execution_count": 0,
   "metadata": {
    "colab": {
     "autoexec": {
      "startup": false,
      "wait_interval": 0
     }
    },
    "colab_type": "code",
    "id": "3-Bh5ZS5KUNT"
   },
   "outputs": [],
   "source": [
    "from google.colab import files"
   ]
  },
  {
   "cell_type": "code",
   "execution_count": 0,
   "metadata": {
    "colab": {
     "autoexec": {
      "startup": false,
      "wait_interval": 0
     }
    },
    "colab_type": "code",
    "id": "cbBwYda2Krkr"
   },
   "outputs": [],
   "source": [
    "files.download('named_entites.p') "
   ]
  },
  {
   "cell_type": "code",
   "execution_count": 0,
   "metadata": {
    "colab": {
     "autoexec": {
      "startup": false,
      "wait_interval": 0
     }
    },
    "colab_type": "code",
    "id": "sh89hcWeLCLA"
   },
   "outputs": [],
   "source": [
    "files.download('candidates_pos.p') \n",
    "files.download('candidates_verbs_grammar.p') \n",
    "files.download('candidates_nouns_grammar.p')\n",
    "files.download('candidates_pronouns_grammar.p') "
   ]
  },
  {
   "cell_type": "markdown",
   "metadata": {
    "colab_type": "text",
    "id": "uywP4HzloXeh"
   },
   "source": [
    "Теперь, когда у нас есть структура данных для каждого типа речи, которая позволяет выбирать по нескольким неизменяемым грамматическим признакам, мы можем выбрать оттуда слово."
   ]
  },
  {
   "cell_type": "code",
   "execution_count": 0,
   "metadata": {
    "colab": {
     "autoexec": {
      "startup": false,
      "wait_interval": 0
     }
    },
    "colab_type": "code",
    "id": "VTw0Wy9_SDR_"
   },
   "outputs": [],
   "source": [
    "import random"
   ]
  },
  {
   "cell_type": "markdown",
   "metadata": {
    "colab_type": "text",
    "id": "XhC2SCT9onC8"
   },
   "source": [
    "Пример случайного выбора существительного."
   ]
  },
  {
   "cell_type": "code",
   "execution_count": 48,
   "metadata": {
    "colab": {
     "autoexec": {
      "startup": false,
      "wait_interval": 0
     },
     "base_uri": "https://localhost:8080/",
     "height": 36
    },
    "colab_type": "code",
    "executionInfo": {
     "elapsed": 574,
     "status": "ok",
     "timestamp": 1526071810320,
     "user": {
      "displayName": "Papa JoStick",
      "photoUrl": "//lh6.googleusercontent.com/-Jf5kd07EGUs/AAAAAAAAAAI/AAAAAAAAAAQ/rF-3rTLwsMc/s50-c-k-no/photo.jpg",
      "userId": "103387557085827987438"
     },
     "user_tz": -180
    },
    "id": "heQ8jL2dNws-",
    "outputId": "a9adaab0-4cc1-4bf1-db8e-6db59dd6e2c5"
   },
   "outputs": [
    {
     "name": "stdout",
     "output_type": "stream",
     "text": [
      "пленный\n"
     ]
    }
   ],
   "source": [
    "random_word = random.choice(candidates_pos['S'])\n",
    "print(random_word)"
   ]
  },
  {
   "cell_type": "markdown",
   "metadata": {
    "colab_type": "text",
    "id": "vJYCIbiloz75"
   },
   "source": [
    "Чтобы переключаться между Pymorphy и Mystem, нужно иметь соотношение обозначений граммем. Записываем вручную."
   ]
  },
  {
   "cell_type": "code",
   "execution_count": 0,
   "metadata": {
    "colab": {
     "autoexec": {
      "startup": false,
      "wait_interval": 0
     }
    },
    "colab_type": "code",
    "id": "U5vwsQgRSet7"
   },
   "outputs": [],
   "source": [
    "grammems = {\"наст\": \"pres\",\n",
    "\"непрош\": \"pres\",\n",
    "\"прош\": \"past\",\n",
    "\"им\": \"nomn\",\n",
    "\"род\": \"gent\",\n",
    "\"дат\": \"datv\",\n",
    "\"вин\": \"accs\",\n",
    "\"твор\": \"ablt\",\n",
    "\"пр\": \"loct\",\n",
    "\"парт\": \"gen2\",\n",
    "\"местн\": \"loc2\",\n",
    "\"зват\": \"voct\",\n",
    "\"ед\": \"sing\",\n",
    "\"мн\": \"plur\",\n",
    "\"деепр\": \"GRND\",\n",
    "\"инф\": \"INFN\",\n",
    "\"прич\": \"PRT\",\n",
    "\"изъяв\": \"indc\",\n",
    "\"пов\": \"impr\",\n",
    "\"притяж\": \"Poss\",\n",
    "\"прев\": \"Supr\",\n",
    "\"срав\": \"Cmp2\",\n",
    "\"муж\": \"masc\",\n",
    "\"жен\": \"femn\",\n",
    "\"сред\": \"neut\",\n",
    "\"несов\": \"impf\",\n",
    "\"сов\": \"perf\",\n",
    "\"действ\": \"actv\",\n",
    "\"страд\": \"pssv\",\n",
    "\"од\": \"anim\",\n",
    "\"неод\": \"inan\",\n",
    "\"пе\": \"tran\",\n",
    "\"нп\": \"intr\",\n",
    "\"1-л\": \"1per\",\n",
    "\"2-л\": \"2per\",\n",
    "\"3-л\": \"3per\"}"
   ]
  },
  {
   "cell_type": "markdown",
   "metadata": {
    "colab_type": "text",
    "id": "L6u9B0fqpH8n"
   },
   "source": [
    "Наконец, пишем полную функцию, которая принимает на вход текст, разбивает его на слова и анализирует с помощью Mystem, затем выбирает случайное слово нужной части речи и с нужными характеристиками и, наконец, копирует изменяемые грамматические признаки из слов оригинала в слова нашего сгенерированного предложения."
   ]
  },
  {
   "cell_type": "code",
   "execution_count": 0,
   "metadata": {
    "colab": {
     "autoexec": {
      "startup": false,
      "wait_interval": 0
     }
    },
    "colab_type": "code",
    "id": "1LqkOP3iC8EK"
   },
   "outputs": [],
   "source": [
    "def choose_random_word(possible_values):\n",
    "    return random.choice(possible_values)"
   ]
  },
  {
   "cell_type": "code",
   "execution_count": 0,
   "metadata": {
    "colab": {
     "autoexec": {
      "startup": false,
      "wait_interval": 0
     }
    },
    "colab_type": "code",
    "id": "ej3eKVRoF3Z7"
   },
   "outputs": [],
   "source": [
    "def mystem2pymorphy(mystem_grammems):\n",
    "    pymorphy_grammems = [grammems[x] for x in mystem_grammems if x in grammems.keys()]\n",
    "    if 'кр' in mystem_grammems:\n",
    "        pymorphy_grammems = [x if x not in ['PRT', 'ADJ'] else x + 'S' for x in pymorphy_grammems]\n",
    "    if 'полн' in mystem_grammems:\n",
    "        pymorphy_grammems = [x if x not in ['PRT', 'ADJ'] else x + 'F' for x in pymorphy_grammems]\n",
    "    return set(pymorphy_grammems)"
   ]
  },
  {
   "cell_type": "code",
   "execution_count": 0,
   "metadata": {
    "colab": {
     "autoexec": {
      "startup": false,
      "wait_interval": 0
     }
    },
    "colab_type": "code",
    "id": "Y8caOqz2SUWr"
   },
   "outputs": [],
   "source": [
    "def generate_response(text, verbose=True):\n",
    "    # морфологический разбор текста Mystem'ом\n",
    "    ana = m.analyze(text)\n",
    "\n",
    "    if verbose:\n",
    "        print(ana)\n",
    "\n",
    "    changed_words = []\n",
    "\n",
    "    for an in ana:\n",
    "        word = an['text']\n",
    "        if 'analysis' in an.keys():\n",
    "            non_changeable, changeable = an['analysis'][0]['gr'].split('=')\n",
    "            changeable = changeable.replace(\"(\", \"\").replace(\")\", \"\")\n",
    "            tags = non_changeable.split(',')\n",
    "            if '|' in changeable:\n",
    "                changeable = changeable.split(\"|\")[0]\n",
    "            pos_tag = tags[0]\n",
    "            grammems_to_change = changeable.split(',')\n",
    "\n",
    "            if verbose:\n",
    "                print(\"POS tag:\", pos_tag)\n",
    "\n",
    "            if pos_tag == 'S':\n",
    "                is_ne = False\n",
    "                tags, gender_tag, anim_tag = parse_noun(word)\n",
    "                for label in named_entities_labels:\n",
    "                    if label in tags:\n",
    "                        possible_values = named_entites[label]\n",
    "                        is_ne = True\n",
    "                if not is_ne:\n",
    "                    possible_values = candidates_nouns_grammar[(gender_tag, anim_tag)]\n",
    "            elif pos_tag == 'V':\n",
    "                tags, perf_tag, trans_tag = parse_verb(word)\n",
    "                possible_values = candidates_verbs_grammar[(perf_tag, trans_tag)]\n",
    "            elif pos_tag == 'SPRO':\n",
    "                tags, person_tag, num_tag, gender_tag, anim_tag = parse_pronoun(word)\n",
    "                possible_values = candidates_pronouns_grammar[(person_tag, num_tag, gender_tag, anim_tag )]\n",
    "            elif pos_tag == 'PR':\n",
    "                possible_values = [word]\n",
    "            else:\n",
    "                possible_values = candidates_pos[pos_tag]\n",
    "\n",
    "            random_word = choose_random_word(possible_values)\n",
    "            if verbose:\n",
    "                print('Random word:', random_word)\n",
    "                \n",
    "            parsed = morph.parse(random_word)[0]\n",
    "            if verbose:\n",
    "                print('Grammems to change:', grammems_to_change)\n",
    "            if len(grammems_to_change) > 0:\n",
    "                try:\n",
    "                    inflected_word = parsed.inflect(mystem2pymorphy(grammems_to_change)).word\n",
    "                except Exception as e:\n",
    "                    random_word = choose_random_word(possible_values)\n",
    "                    parsed = morph.parse(random_word)[0]\n",
    "                    if verbose:\n",
    "                        print('Random word:', random_word)\n",
    "                    inflected_word = parsed.inflect(mystem2pymorphy(grammems_to_change)).word\n",
    "            else:\n",
    "                inflected_word = word\n",
    "        else:\n",
    "            inflected_word = word\n",
    "            \n",
    "        if word[0].isupper():\n",
    "            inflected_word = inflected_word.capitalize()\n",
    "            \n",
    "        changed_words.append(inflected_word)\n",
    "        \n",
    "    response = ''.join(changed_words)\n",
    "    if verbose:\n",
    "        print('Response:', response)\n",
    "\n",
    "    return response"
   ]
  }
 ],
 "metadata": {
  "colab": {
   "collapsed_sections": [],
   "default_view": {},
   "name": "python_morphological_analysis_russian",
   "provenance": [
    {
     "file_id": "10ab9njCv4y_K91beZVJ0g2PPP7RiJYBM",
     "timestamp": 1525701796640
    },
    {
     "file_id": "1enO0r9Ads5KkaOkqUb_08kobOAluhcpe",
     "timestamp": 1525506625049
    }
   ],
   "version": "0.3.2",
   "views": {}
  },
  "kernelspec": {
   "display_name": "Python 3",
   "language": "python",
   "name": "python3"
  },
  "language_info": {
   "codemirror_mode": {
    "name": "ipython",
    "version": 3
   },
   "file_extension": ".py",
   "mimetype": "text/x-python",
   "name": "python",
   "nbconvert_exporter": "python",
   "pygments_lexer": "ipython3",
   "version": "3.6.4"
  }
 },
 "nbformat": 4,
 "nbformat_minor": 1
}
